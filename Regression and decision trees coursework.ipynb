{
 "cells": [
  {
   "cell_type": "code",
   "execution_count": 1,
   "metadata": {},
   "outputs": [],
   "source": [
    "import pandas as pd\n",
    "import numpy as np\n",
    "import matplotlib.pyplot as plt\n",
    "from collections import defaultdict\n",
    "import sys\n",
    "import seaborn as sn"
   ]
  },
  {
   "cell_type": "code",
   "execution_count": 2,
   "metadata": {},
   "outputs": [],
   "source": [
    "SEED_VALUE = 15"
   ]
  },
  {
   "cell_type": "markdown",
   "metadata": {},
   "source": [
    "## Task 1: Regression"
   ]
  },
  {
   "cell_type": "markdown",
   "metadata": {},
   "source": [
    "Both the regression test and train data are loaded using numpy, and a random seed value is set to ensure that the data is shuffled consistently, allowing our results to be replicable when  the function is run several times. The input data is shuffled to remove any preexisting patterns in the dataset that might act as irrelevant predictors of the data. "
   ]
  },
  {
   "cell_type": "code",
   "execution_count": 3,
   "metadata": {},
   "outputs": [],
   "source": [
    "np.random.seed(SEED_VALUE)\n",
    "regression_train_data = np.loadtxt(\"regression_train.csv\", delimiter=',')\n",
    "regression_test_data = np.loadtxt(\"regression_test.csv\", delimiter=',')\n",
    "np.random.shuffle(regression_train_data)\n",
    "np.random.shuffle(regression_test_data)"
   ]
  },
  {
   "cell_type": "markdown",
   "metadata": {},
   "source": [
    "#### Task 1.1: Linear Regression"
   ]
  },
  {
   "cell_type": "code",
   "execution_count": 4,
   "metadata": {},
   "outputs": [],
   "source": [
    "def standardize(data, mean=[], sigma=[]):\n",
    "    if len(mean) == 0:\n",
    "        mean = np.mean(data, axis=0)\n",
    "    if len(sigma) == 0:\n",
    "        sigma = np.std(data, axis=0)\n",
    "    \n",
    "    data_std = np.zeros(data.T.shape)\n",
    "    \n",
    "    for i in range(data.shape[1]):\n",
    "        if sigma[i] == 0:\n",
    "            data_std[i] = data.T[i]\n",
    "        else:\n",
    "            data_std[i] = (data.T[i] - mean[i])/ sigma[i]\n",
    "    \n",
    "    data_std = data_std.T\n",
    "#     data_std = (data - mean) / sigma\n",
    "    return data_std, mean, sigma\n",
    "    "
   ]
  },
  {
   "cell_type": "markdown",
   "metadata": {},
   "source": [
    "\n",
    "For this task, we obtain a linear regression model to predict the median value of owner-occupied homes in USD 1000's as your target variable using all the other features as predictors. By using the statistical interpretation of linear regression, we fnid the parameters $\\beta_{\\text ML}$ that maxmize the likelihood:\n",
    "$$\n",
    "p(\\mathcal Y | \\mathcal X, \\boldsymbol\\beta) = \\prod_{n=1}^N p(y_n | \\boldsymbol x_n, \\boldsymbol\\beta)\\,.\n",
    "$$\n",
    "\n",
    "These parameters allow us to formulate our regression line, which we then use to predict values given data points from a test set. The accuracy of our model can be calculated using the mean square error.\n"
   ]
  },
  {
   "cell_type": "code",
   "execution_count": 5,
   "metadata": {},
   "outputs": [
    {
     "name": "stdout",
     "output_type": "stream",
     "text": [
      "standard deviation of first column:  0.0\n",
      "First column of X_train [1. 1. 1. 1. 1.]\n",
      "First column of X_test [1. 1. 1. 1. 1.]\n"
     ]
    }
   ],
   "source": [
    "X_train = regression_train_data[:, :-1]\n",
    "y_train = regression_train_data[:, -1]\n",
    "X_test = regression_test_data[:, :-1]\n",
    "y_test = regression_test_data[:, -1]\n",
    "\n",
    "# We standardise both the training dataset and the test dataset with the same mean and standard deviation parameters, so that both datasets have predictor features with the same range.\n",
    "X_train, mean_train, sigma_train = standardize(X_train)\n",
    "X_test, _, _ = standardize(X_test, mean_train, sigma_train)\n",
    "\n",
    "print(\"standard deviation of first column: \", sigma_train[0])\n",
    "print(\"First column of X_train\", X_train[:5, 0])\n",
    "print(\"First column of X_test\", X_test[:5, 0])"
   ]
  },
  {
   "cell_type": "markdown",
   "metadata": {},
   "source": [
    "By inspection of both the test and train dataset, we can see that the first few values of the first column of both X_train and X_test are 1s. The standard deviation of the first column being 0 implies that the first column of both X_train and X_test are filled with 1s. This means that the bias term has been included in the dataset and we do not need to further augment our dataset. "
   ]
  },
  {
   "cell_type": "markdown",
   "metadata": {},
   "source": [
    "From our lectures, the maximum likelihood estimator is given by the formula:\n",
    "$$\n",
    "\\boldsymbol\\beta_{\\text ML} = (\\boldsymbol X^T\\boldsymbol X)^{-1}\\boldsymbol X^T\\boldsymbol y\\in\\mathbb{R}^D\\,.\n",
    "$$"
   ]
  },
  {
   "cell_type": "code",
   "execution_count": 6,
   "metadata": {},
   "outputs": [],
   "source": [
    "def max_likelihood_estimate(X, y):\n",
    "    # resolves the normal equation XT(y - X*beta) = 0\n",
    "    optimal_beta = np.linalg.solve(X.T @ X, X.T @ y)\n",
    "    return optimal_beta"
   ]
  },
  {
   "cell_type": "code",
   "execution_count": 7,
   "metadata": {},
   "outputs": [],
   "source": [
    "def predict_with_estimate(X_test, beta):\n",
    "    predicted_y = X_test @ beta\n",
    "    return predicted_y"
   ]
  },
  {
   "cell_type": "code",
   "execution_count": 8,
   "metadata": {},
   "outputs": [],
   "source": [
    "#calculate the mean square error of the regression line\n",
    "def mse(y_train, y_predicted):\n",
    "    n = y_train.shape[0]\n",
    "    return np.sum(np.square(y_train - y_predicted), axis=0) / n"
   ]
  },
  {
   "cell_type": "markdown",
   "metadata": {},
   "source": [
    "#### 1.1.1"
   ]
  },
  {
   "cell_type": "code",
   "execution_count": 9,
   "metadata": {},
   "outputs": [
    {
     "name": "stdout",
     "output_type": "stream",
     "text": [
      "The parameters for linear regression, beta_ml is:\n",
      "[ 2.30185644e+01 -6.42428261e-01 -7.47418815e+03 -3.98149204e+04\n",
      "  3.98147514e+04 -4.00063949e+08  9.79120942e+02 -1.63905857e-01\n",
      "  1.28483429e+03 -9.75994730e+02 -4.91540040e-02 -6.10750434e+03\n",
      "  7.07828586e-01 -3.68838142e+00  4.00063947e+08  6.10572590e+03\n",
      "  7.47539451e+03 -1.28838888e+03]\n"
     ]
    }
   ],
   "source": [
    "beta_ml = max_likelihood_estimate(X_train, y_train)\n",
    "print(\"The parameters for linear regression, beta_ml is:\")\n",
    "print(beta_ml)"
   ]
  },
  {
   "cell_type": "code",
   "execution_count": 10,
   "metadata": {},
   "outputs": [
    {
     "name": "stdout",
     "output_type": "stream",
     "text": [
      "In Sample MSE is  24.374980456628485\n"
     ]
    }
   ],
   "source": [
    "predicted_y_for_training_data = predict_with_estimate(X_train, beta_ml)\n",
    "in_sample_mse = mse(y_train, predicted_y_for_training_data)\n",
    "print(\"In Sample MSE is \", in_sample_mse)"
   ]
  },
  {
   "cell_type": "code",
   "execution_count": 11,
   "metadata": {},
   "outputs": [
    {
     "name": "stdout",
     "output_type": "stream",
     "text": [
      "Out of Sample MSE is  19.53707302477274\n"
     ]
    }
   ],
   "source": [
    "predicted_y_for_test_data = predict_with_estimate(X_test, beta_ml)\n",
    "out_of_sample_mse = mse(y_test, predicted_y_for_test_data)\n",
    "print(\"Out of Sample MSE is \", out_of_sample_mse)"
   ]
  },
  {
   "cell_type": "markdown",
   "metadata": {},
   "source": [
    "The out of sample MSE of 24.4 is slightly higher as compared to the in sample MSE of 19.6. \n",
    "<br>\n",
    "This is unexpected since models tend to perform better on the training set as compared to the test set. Since our cost function is mean squared error, one reason why our model appears to perform worse on the training set might be due to the larger squared errors from certain data points that are outliers in the data. We plot a graph of squared errors for each input to further investigate this hypothesis.\n"
   ]
  },
  {
   "cell_type": "code",
   "execution_count": 12,
   "metadata": {},
   "outputs": [],
   "source": [
    "def squared_error(y_train, y_predicted):\n",
    "    n = y_train.shape[0]\n",
    "    return np.square(y_train - y_predicted)"
   ]
  },
  {
   "cell_type": "code",
   "execution_count": 13,
   "metadata": {},
   "outputs": [],
   "source": [
    "def plot_squared_errors(y_train, y_predicted, title):\n",
    "    errors = squared_error(y_train, y_predicted)\n",
    "    plt.figure()\n",
    "    plt.style.use('seaborn-whitegrid')\n",
    "    plt.title(title)\n",
    "    plt.plot(np.arange(len(y_train)), errors, '+', markersize=8)\n",
    "    plt.xlabel(\"$i$\")\n",
    "    plt.ylabel(\"Squared error of $ith$ data point\")"
   ]
  },
  {
   "cell_type": "code",
   "execution_count": 14,
   "metadata": {},
   "outputs": [
    {
     "data": {
      "image/png": "[encoded data removed]",
      "text/plain": [
       "<Figure size 432x288 with 1 Axes>"
      ]
     },
     "metadata": {
      "needs_background": "light"
     },
     "output_type": "display_data"
    },
    {
     "data": {
      "image/png": "[encoded data removed]",
      "text/plain": [
       "<Figure size 432x288 with 1 Axes>"
      ]
     },
     "metadata": {},
     "output_type": "display_data"
    }
   ],
   "source": [
    "plot_squared_errors(y_test, predicted_y_for_test_data, \"Squared errors for test data\")\n",
    "plot_squared_errors(y_train, predicted_y_for_training_data, \"Squared errors for training data\")"
   ]
  },
  {
   "cell_type": "markdown",
   "metadata": {},
   "source": [
    "#### 1.1.2\n",
    "From the graphs, we can observe that for the training data, there are more outliers with significantly higher squared errors with values in the range of 600 - 700. In contrast, the outliers for the test data have squared errors in the range of 150-250. There are also generally more outliers in the training dataset as compared to the test dataset. This might be one of the reasons that contributed to the higher MSE of the training dataset."
   ]
  },
  {
   "cell_type": "markdown",
   "metadata": {},
   "source": [
    "### Task 1.2: Ridge Regression"
   ]
  },
  {
   "cell_type": "markdown",
   "metadata": {},
   "source": [
    "In this task, we use ridge regression to create a model for our dataset. Since we have a hyperparameter, $\\lambda$ for ridge regression that controls how much penalty we apply to large values of $\\beta$ to keep variance low, we use 5 fold cross validation on the training dataset to find the optimal $\\lambda$ for our model. We then find the best estimator for the ridge regression using this $\\lambda$. Since our task is regression, MSE is used to calculate the performance of our model"
   ]
  },
  {
   "cell_type": "markdown",
   "metadata": {},
   "source": [
    "From the lectures, ridge regression is an extension of linear regression with least squares loss function, by including a (usually small) positive penalty term $\\lambda$:\n",
    "$$\n",
    "\\underset{\\boldsymbol\\beta}{\\text{min}} \\| \\mathcal Y - \\mathcal X \\boldsymbol\\beta \\|^2 + \\lambda \\| \\boldsymbol\\beta \\|^2 = \\underset{\\boldsymbol\\beta}{\\text{min}} \\ \\text{L}_{\\text{ridge}} (\\boldsymbol\\beta)\n",
    "$$\n",
    "where $\\text{L}_{\\text{ridge}}$ is the ridge loss function. The solution is\n",
    "$$\n",
    "\\boldsymbol\\beta^{*}_{\\text{ridge}} = (\\boldsymbol X^T\\boldsymbol X + \\lambda I)^{-1}\\boldsymbol X^T\\boldsymbol y \\, .\n",
    "$$\n",
    "\n",
    "\n"
   ]
  },
  {
   "cell_type": "code",
   "execution_count": 15,
   "metadata": {},
   "outputs": [],
   "source": [
    "# shuffles the dataset and splits the dataset into k folds\n",
    "def split_data(data, num_of_folds=10):\n",
    "    fold_size = int(data.shape[0] / num_of_folds)\n",
    "    np.random.seed(SEED_VALUE)\n",
    "    shuffled_data = np.random.permutation(data)\n",
    "    return np.array_split(shuffled_data, num_of_folds)\n",
    "        "
   ]
  },
  {
   "cell_type": "markdown",
   "metadata": {},
   "source": [
    "To perform cross validation, we split our data set into 5 folds. np.array_split is used to split the dataset into 5 folds, and all data points are divided into the folds. This generates folds of different lengths. I chose not to truncate the last 4 data points to make the folds have equal length, even though the data points lost to truncation would be small. This is because our data set size is relatively small, with 400 data points, and we should consider all the data points when generating models for the dataset."
   ]
  },
  {
   "cell_type": "code",
   "execution_count": 16,
   "metadata": {},
   "outputs": [
    {
     "name": "stdout",
     "output_type": "stream",
     "text": [
      "(81, 19)\n",
      "(81, 19)\n",
      "(81, 19)\n",
      "(81, 19)\n",
      "(80, 19)\n"
     ]
    },
    {
     "data": {
      "text/plain": [
       "[None, None, None, None, None]"
      ]
     },
     "execution_count": 16,
     "metadata": {},
     "output_type": "execute_result"
    }
   ],
   "source": [
    "folds = split_data(regression_train_data, 5)\n",
    "[print(fold.shape) for fold in folds]"
   ]
  },
  {
   "cell_type": "code",
   "execution_count": 17,
   "metadata": {},
   "outputs": [],
   "source": [
    "# generates the training sets and test sets for each cross validation fold\n",
    "def generate_test_train_sets(folds, i):\n",
    "    # drop one fold as test\n",
    "    cv_test_set = folds[i]\n",
    "    test_x = cv_test_set[:, : -1]\n",
    "    #labels for test data\n",
    "    test_y = cv_test_set[:, -1]\n",
    "\n",
    "    # use the rest as training data\n",
    "    cv_train_set = np.vstack([folds[k] for k in range(len(folds)) if k != i])\n",
    "\n",
    "    train_x = cv_train_set[:, :-1]\n",
    "    train_y = cv_train_set[:, -1]\n",
    "    return train_x, train_y, test_x, test_y"
   ]
  },
  {
   "cell_type": "code",
   "execution_count": 18,
   "metadata": {},
   "outputs": [],
   "source": [
    "# finds beta_ML given penalty term\n",
    "def ridge_regression_estimate(X, y, penalty):\n",
    "    R, C = X.shape\n",
    "    I = np.identity(C)\n",
    "    beta_ridge = np.linalg.solve(X.T @ X + penalty * I, X.T @ y)\n",
    "    return beta_ridge\n",
    "    "
   ]
  },
  {
   "cell_type": "code",
   "execution_count": 19,
   "metadata": {},
   "outputs": [],
   "source": [
    "#plot penalty parameter against mse\n",
    "def plot_penalty_param(params_to_errors_map, title):\n",
    "    plt.scatter(params_to_errors_map.keys(), params_to_errors_map.values(), marker='+')\n",
    "    plt.title(title)\n",
    "    plt.xlabel(\"$\\u03BB$\")\n",
    "    plt.ylabel(\"Mean Square Error\")\n",
    "    plt.show()\n",
    "        "
   ]
  },
  {
   "cell_type": "markdown",
   "metadata": {},
   "source": [
    "We perform cross validation across the different folds and obtain graphs of mean square errors against the hyperparameter $\\lambda$ for each fold. We then take the fold averaged penalty parameter as our optimal hyperparameter."
   ]
  },
  {
   "cell_type": "code",
   "execution_count": 20,
   "metadata": {},
   "outputs": [],
   "source": [
    "# perform cross validation across each fold of thee datsset\n",
    "def cross_validation_across_each_fold():\n",
    "    num_of_folds = len(folds)\n",
    "    #initialise list of penalty terms to try out in cross validation\n",
    "    penalty_params = np.linspace(0, 20, num=100)\n",
    "\n",
    "    opt_lambda_in_each_fold = []\n",
    "    \n",
    "    # grid of errors for each parameter in each fold\n",
    "    errors_grid = np.zeros((num_of_folds, len(penalty_params)))\n",
    "    errors_for_ith_fold = {}\n",
    "    lowest_error = 0\n",
    "    \n",
    "    for i in range(num_of_folds):\n",
    "        train_x, train_y, test_x, test_y = generate_test_train_sets(folds, i)\n",
    "        optimal_lambda = None\n",
    "        min_mse = sys.maxsize\n",
    "        \n",
    "        for j, penalty in enumerate(penalty_params):\n",
    "            #train model using function\n",
    "            beta_ridge = ridge_regression_estimate(train_x, train_y, penalty)\n",
    "            \n",
    "            # use the model to predict values for the validation set and calculate the the corresponding mse\n",
    "            predicted_y = predict_with_estimate(test_x, beta_ridge)\n",
    "            # calculate mse on the test set with beta_ridge calculated\n",
    "            error_validation = mse(test_y, predicted_y)\n",
    "        \n",
    "            #add error for the validation set to the grid of errors\n",
    "            errors_grid[i][j] = error_validation\n",
    "            # if mse for current lambda < min_mse so far, replace optimal lambda with current lambda\n",
    "            if min_mse > error_validation:\n",
    "                min_mse = error_validation\n",
    "                optimal_lambda = penalty\n",
    "        \n",
    "        lowest_error += min_mse\n",
    "        opt_lambda_in_each_fold.append(optimal_lambda)\n",
    "\n",
    "    # plot mse against various penalty parameters for each fold\n",
    "    for i in range(len(errors_grid)):\n",
    "        param_error_map = {}\n",
    "        for j in range(len(penalty_params)):\n",
    "            param_error_map[penalty_params[j]] = errors_grid[i, j]\n",
    "        plot_penalty_param(param_error_map, \"Errors for each \\u03BB for Fold \" + str(i))\n",
    "    \n",
    "    # find average lowest mse across all 5 folds\n",
    "    lowest_error /= num_of_folds\n",
    "    # get min lambda for each fold and get the average of these lambda across all 5 folds\n",
    "    average_optimal_lambda = sum(opt_lambda_in_each_fold) / len(opt_lambda_in_each_fold)\n",
    "    \n",
    "    # retrain the ridge regression model on the entire training dataset with the average penalty \n",
    "    optimal_beta_ridge = ridge_regression_estimate(X_train, y_train, average_optimal_lambda)\n",
    "    return average_optimal_lambda, lowest_error, optimal_beta_ridge, opt_lambda_in_each_fold\n",
    "    "
   ]
  },
  {
   "cell_type": "code",
   "execution_count": 21,
   "metadata": {
    "scrolled": false
   },
   "outputs": [
    {
     "data": {
      "image/png": "[encoded data removed]",
      "text/plain": [
       "<Figure size 432x288 with 1 Axes>"
      ]
     },
     "metadata": {},
     "output_type": "display_data"
    },
    {
     "data": {
      "image/png": "[encoded data removed]",
      "text/plain": [
       "<Figure size 432x288 with 1 Axes>"
      ]
     },
     "metadata": {},
     "output_type": "display_data"
    },
    {
     "data": {
      "image/png": "[encoded data removed]",
      "text/plain": [
       "<Figure size 432x288 with 1 Axes>"
      ]
     },
     "metadata": {},
     "output_type": "display_data"
    },
    {
     "data": {
      "image/png": "[encoded data removed]",
      "text/plain": [
       "<Figure size 432x288 with 1 Axes>"
      ]
     },
     "metadata": {},
     "output_type": "display_data"
    },
    {
     "data": {
      "image/png": "[encoded data removed]",
      "text/plain": [
       "<Figure size 432x288 with 1 Axes>"
      ]
     },
     "metadata": {},
     "output_type": "display_data"
    }
   ],
   "source": [
    "mean_opt_penalty, lowest_error, mean_opt_beta, opt_lambda_per_fold = cross_validation_across_each_fold()"
   ]
  },
  {
   "cell_type": "markdown",
   "metadata": {},
   "source": [
    "#### 1.2.1"
   ]
  },
  {
   "cell_type": "code",
   "execution_count": 23,
   "metadata": {},
   "outputs": [
    {
     "name": "stdout",
     "output_type": "stream",
     "text": [
      "Optimal lambda for fold 1 is 0.20202020202020202\n",
      "Optimal lambda for fold 2 is 4.444444444444445\n",
      "Optimal lambda for fold 3 is 0.0\n",
      "Optimal lambda for fold 4 is 19.393939393939394\n",
      "Optimal lambda for fold 5 is 8.686868686868687\n",
      "The mean of all the optimal penalty values is  6.545454545454545\n"
     ]
    }
   ],
   "source": [
    "[print(f\"Optimal lambda for fold {fold + 1} is {l}\"\"\") for fold, l in enumerate(opt_lambda_per_fold)]\n",
    "print(\"The mean of all the optimal penalty values is \", mean_opt_penalty)"
   ]
  },
  {
   "cell_type": "markdown",
   "metadata": {},
   "source": [
    "##### Exploring the performance of the fold averaged cross validation\n",
    "In the fold averaged cross validation, different lambdas do well on different training datasets, as shown by the plots of penalty terms against errors in different folds. Taking an average of the parameter that gives the lowest mse at each fold would not give an accurate representation of the optimal penalty parameter, since what we want to obtain is a parameter that does consistently well with unseen data by consistently generating models that gives an accurate predicted y value which results in a low mse. Hence, a more accurate estimate of the optimal parameter would be to take the sum of how each penalty parameter performs in each fold and take the average of these errors. In subesequent cross validations, we would be taking the average error or accuracy of each hyperparameter combination across all 5 folds, and taking the hyperparameter combination that gives us the lowest value."
   ]
  },
  {
   "cell_type": "markdown",
   "metadata": {},
   "source": [
    "We take the penalty parameter that performs the best by having the lowest average MSE across all 5 folds. We call this the average MSE based cross validation."
   ]
  },
  {
   "cell_type": "code",
   "execution_count": 24,
   "metadata": {},
   "outputs": [],
   "source": [
    "def cross_validation_ridge():\n",
    "    validation_score = defaultdict(float)\n",
    "    num_of_folds = len(folds)\n",
    "    penalty_params = np.linspace(0, 20, num=100)\n",
    "    \n",
    "    # perform cross validation across k folds\n",
    "    for i in range(num_of_folds):\n",
    "        train_x, train_y, test_x, test_y = generate_test_train_sets(folds, i)\n",
    "        optimal_lambda = None\n",
    "        min_mse = sys.maxsize\n",
    "        for j, penalty in enumerate(penalty_params):\n",
    "            #train model using function\n",
    "            beta_ridge = ridge_regression_estimate(train_x, train_y, penalty)\n",
    "            #evaluate model\n",
    "            predicted_y = predict_with_estimate(test_x, beta_ridge)\n",
    "            # calculate mse of model and add the mse to the dictionary\n",
    "            error_validation = mse(test_y, predicted_y)\n",
    "            validation_score[penalty] += error_validation\n",
    "    \n",
    "    #get average MSE for each hyperparameter lambda across all 5 folds\n",
    "    for param, error in validation_score.items():\n",
    "        validation_score[param] = error / num_of_folds\n",
    "    \n",
    "    #plot graph for the average performance of each hyperparameter\n",
    "    plot_penalty_param(validation_score, \"Average error across all 5 folds\")\n",
    "    \n",
    "    # find optimal lambda for our model\n",
    "    optimal_penalty = None\n",
    "    lowest_error = sys.maxsize\n",
    "    for param, error in validation_score.items():\n",
    "        if error < lowest_error:\n",
    "            optimal_penalty = param\n",
    "            lowest_error = error\n",
    "    \n",
    "    # retrain the ridge regression model on the entire training dataset with the optimal penalty observed\n",
    "    optimal_beta_ridge = ridge_regression_estimate(X_train, y_train, optimal_penalty)\n",
    "    return validation_score, optimal_penalty, lowest_error, optimal_beta_ridge\n",
    "        "
   ]
  },
  {
   "cell_type": "code",
   "execution_count": 25,
   "metadata": {},
   "outputs": [
    {
     "data": {
      "image/png": "[encoded data removed]",
      "text/plain": [
       "<Figure size 432x288 with 1 Axes>"
      ]
     },
     "metadata": {},
     "output_type": "display_data"
    },
    {
     "name": "stdout",
     "output_type": "stream",
     "text": [
      "The optimial penalty parameter across all folds is  2.4242424242424243\n",
      "The average mse is  26.668487647243467\n"
     ]
    }
   ],
   "source": [
    "validation_score, param, e, beta_ridge_opt = cross_validation_ridge()\n",
    "# print(validation_score)\n",
    "print(\"The optimial penalty parameter across all folds is \", param)\n",
    "print(\"The average mse is \", e)"
   ]
  },
  {
   "cell_type": "markdown",
   "metadata": {},
   "source": [
    "Again, we evaluate the performance of our ridge regression model by taking the mean square error of our predicted values and the actual values."
   ]
  },
  {
   "cell_type": "code",
   "execution_count": 26,
   "metadata": {},
   "outputs": [],
   "source": [
    "def evaluate_ridge_model(X_test, y_test, beta_ridge):\n",
    "    y_predicted = predict_with_estimate(X_test, beta_ridge)\n",
    "    error = mse(y_test, y_predicted)\n",
    "    return error"
   ]
  },
  {
   "cell_type": "markdown",
   "metadata": {},
   "source": [
    "#### Average based cross validation"
   ]
  },
  {
   "cell_type": "code",
   "execution_count": 27,
   "metadata": {},
   "outputs": [
    {
     "name": "stdout",
     "output_type": "stream",
     "text": [
      "The in sample MSE is 24.574589021414514\n"
     ]
    }
   ],
   "source": [
    "error = evaluate_ridge_model(X_train, y_train, beta_ridge_opt)\n",
    "print(f\"The in sample MSE is {error}\")"
   ]
  },
  {
   "cell_type": "code",
   "execution_count": 28,
   "metadata": {},
   "outputs": [
    {
     "name": "stdout",
     "output_type": "stream",
     "text": [
      "The out of sample MSE is 19.353333946743277\n"
     ]
    }
   ],
   "source": [
    "e = evaluate_ridge_model(X_test, y_test, beta_ridge_opt)\n",
    "print(f\"The out of sample MSE is {e}\")"
   ]
  },
  {
   "cell_type": "markdown",
   "metadata": {},
   "source": [
    "#### Fold based cross validation"
   ]
  },
  {
   "cell_type": "code",
   "execution_count": 29,
   "metadata": {},
   "outputs": [
    {
     "name": "stdout",
     "output_type": "stream",
     "text": [
      "The in sample MSE is 24.699783342933188\n"
     ]
    }
   ],
   "source": [
    "e = evaluate_ridge_model(X_train, y_train, mean_opt_beta)\n",
    "print(f\"The in sample MSE is {e}\")"
   ]
  },
  {
   "cell_type": "code",
   "execution_count": 30,
   "metadata": {},
   "outputs": [
    {
     "name": "stdout",
     "output_type": "stream",
     "text": [
      "The in sample MSE is 19.431430488065356\n"
     ]
    }
   ],
   "source": [
    "e = evaluate_ridge_model(X_test, y_test, mean_opt_beta)\n",
    "print(f\"The in sample MSE is {e}\")"
   ]
  },
  {
   "cell_type": "markdown",
   "metadata": {},
   "source": [
    "Although there is not much difference between using either cross validation methods for the MSE, we will use the averaged based cross validation in future cross validation examples since it performs slightly better."
   ]
  },
  {
   "cell_type": "markdown",
   "metadata": {},
   "source": [
    "#### 1.2.2\n",
    "The average in-sample MSE is 24.57 while average out-of-sample MSE is 19.35. Again, out-of-sample MSE is lower than in-sample MSE. Ridge regression has a lower out of sample MSE, but higher in sample MSE compared to linear regression. This higher in sample MSE can be explained by the fact that the ridge regression is optimised with least squares with an additional penalty term, while linear regression is optimised with least squares. The penalty term allows the regression model to have less variance and be more robust to noise and outliers in the training set, hence resulting in a lower out of sample MSE."
   ]
  },
  {
   "cell_type": "markdown",
   "metadata": {},
   "source": [
    "### Task 1.3: k nearest neighbours\n",
    "\n",
    "The kNN algorithm implemented calculates the euclidean distance between the given unseen data point x, to all other points in the training data set. The k closest points to this data point, x, are chosen. Since the distance metric used to select the k closest neighbours is unweighted, the average of the y values for these k neighbours is calculated, forming the predicted value of the data point x. The average of the k nearest points are taken since this is a regression task.\n",
    "\n",
    "We standardise the datas in both the test and train datasets prevent one feature with large values from overshadowing other features. "
   ]
  },
  {
   "cell_type": "code",
   "execution_count": 31,
   "metadata": {},
   "outputs": [],
   "source": [
    "# calculate euclidean distance between two data points\n",
    "def euclidean_dist(m, n):\n",
    "    return np.sqrt(np.sum(np.square(m - n), axis=1))"
   ]
  },
  {
   "cell_type": "code",
   "execution_count": 32,
   "metadata": {},
   "outputs": [],
   "source": [
    "def find_k_nearest_neighbours(x_test, X_train, k):\n",
    "    # compute distance from x_test to X_train\n",
    "    dist = euclidean_dist(x_test, X_train)\n",
    "    enumerated_row = enumerate(dist)\n",
    "    nearest_neighbours = sorted(enumerated_row, key=lambda x: x[1])[:k]\n",
    "    \n",
    "    # return indices of k_nearest_neighbours and euclidean distance sorted by distance\n",
    "    indices = [neighbour[0] for neighbour in nearest_neighbours]\n",
    "    dist = [neighbour[1] for neighbour in nearest_neighbours]\n",
    "    return indices, dist\n",
    "    "
   ]
  },
  {
   "cell_type": "code",
   "execution_count": 33,
   "metadata": {},
   "outputs": [],
   "source": [
    "def plot_k_validation(params_to_errors_map, title):\n",
    "    plt.plot(params_to_errors_map.keys(), params_to_errors_map.values(), marker='+')\n",
    "    plt.title(title)\n",
    "    plt.xlabel(\"$k$\")\n",
    "    plt.ylabel(\"Mean Square Error\")\n",
    "    plt.show()"
   ]
  },
  {
   "cell_type": "code",
   "execution_count": 34,
   "metadata": {},
   "outputs": [],
   "source": [
    "def cross_validation_knn():\n",
    "    validation_score = defaultdict(int)\n",
    "    num_of_folds = len(folds)\n",
    "    \n",
    "    errors_for_last_fold = {}\n",
    "    \n",
    "    # perform cross validation across k folds\n",
    "    for i in range(num_of_folds):\n",
    "        # drop one fold as test\n",
    "        train_x, train_y, test_x, test_y = generate_test_train_sets(folds, i)\n",
    "        params = list(range(1, 25))\n",
    "        \n",
    "        for param in params:\n",
    "            # find k closest neighbours for each data point in test set\n",
    "            k_nearest_neighbours_of_test_data = [find_k_nearest_neighbours(test, train_x, param) for test in test_x]\n",
    "            \n",
    "            # find the average of the values of k closest neighbours for each data point\n",
    "            predicted_y = np.array([np.average(train_y[neighbours]) for (neighbours, _) in k_nearest_neighbours_of_test_data])\n",
    "            error_validation = mse(test_y, predicted_y)\n",
    "            validation_score[param] += error_validation\n",
    "            \n",
    "            if i == num_of_folds - 1:\n",
    "                errors_for_last_fold[param] = error_validation\n",
    "    \n",
    "    \n",
    "    # plot error distribution for last fold\n",
    "    plot_k_validation(errors_for_last_fold, \"MSE of Fold 5 across different k values\")\n",
    "    min_error_fold_5 = min(errors_for_last_fold, key=errors_for_last_fold.get)\n",
    "    print(\"Optimal k for fold 5 is\", min_error_fold_5)\n",
    "    #get average MSE for each hyperparam    \n",
    "    for param, error in validation_score.items():\n",
    "        validation_score[param] = error / num_of_folds\n",
    "        \n",
    "    # find optimal k value across all 5 folds\n",
    "    optimal_k = None\n",
    "    lowest_error = sys.maxsize\n",
    "    for param, error in validation_score.items():\n",
    "        if error < lowest_error:\n",
    "            optimal_k = param\n",
    "            lowest_error = error\n",
    "            \n",
    "    return validation_score, optimal_k, lowest_error"
   ]
  },
  {
   "cell_type": "code",
   "execution_count": 35,
   "metadata": {},
   "outputs": [
    {
     "data": {
      "image/png": "[encoded data removed]",
      "text/plain": [
       "<Figure size 432x288 with 1 Axes>"
      ]
     },
     "metadata": {},
     "output_type": "display_data"
    },
    {
     "name": "stdout",
     "output_type": "stream",
     "text": [
      "Optimal k for fold 5 is 2\n",
      "The optimal value for k is 2\n"
     ]
    }
   ],
   "source": [
    "validation_score, optimal_k, lowest_error = cross_validation_knn()\n",
    "print(f\"The optimal value for k is {optimal_k}\")"
   ]
  },
  {
   "cell_type": "markdown",
   "metadata": {},
   "source": [
    "#### 1.3.1\n",
    "In general, the MSE increases as the number of neighbours increases past 5. In addition, the MSE is generally higher at extreme ends (1 and 25). When the number of neighbours considered is 1, the MSE is high because the model is not robust to noise or outliers and is unable to take into account other data points in the vicinity. On the other hand, when the values of k neighbours that are considered becomes very high, we might be considering data points that are irrelevant to the current data point. This is exacerbated by the fact that the distance metric is unweighted and all neighbours are considered equally regardless of their distance to the data point in consideration. Hence, an appropriate number of neighbours, such as 2, 3 or 5 gives a considerably low MSE, with 2 neighbours giving the optimal MSE."
   ]
  },
  {
   "cell_type": "code",
   "execution_count": 36,
   "metadata": {},
   "outputs": [],
   "source": [
    "# predict the value of y giveen the training dataset\n",
    "def knn_predict(X_test,dataset, labels, optimal_k):\n",
    "    test_neighbours = [find_k_nearest_neighbours(x_test, dataset, optimal_k) for x_test in X_test]\n",
    "    predicted_y = np.array([np.average(labels[neighbours]) for (neighbours, _) in test_neighbours])\n",
    "    return predicted_y"
   ]
  },
  {
   "cell_type": "code",
   "execution_count": 37,
   "metadata": {},
   "outputs": [
    {
     "name": "stdout",
     "output_type": "stream",
     "text": [
      "test acc:  13.76362745098039\n",
      "train acc:  3.970810643564357\n"
     ]
    }
   ],
   "source": [
    "test_set_pred = knn_predict(X_test, X_train, y_train, optimal_k)\n",
    "test_set_accuracy = mse(test_set_pred, y_test)\n",
    "train_set_pred = knn_predict(X_train, X_train, y_train, optimal_k)\n",
    "train_set_accuracy = mse(train_set_pred, y_train)\n",
    "print(\"test acc: \", test_set_accuracy)\n",
    "print(\"train acc: \", train_set_accuracy)"
   ]
  },
  {
   "cell_type": "markdown",
   "metadata": {},
   "source": [
    "#### 1.3.2\n",
    "A summary table of the out of sample MSE and the in sample MSE for the different models is shown below: \n",
    "<br>\n",
    "<br>\n",
    "\n",
    "|Table    |In Sample MSE | Out of Sample MSE|\n",
    "|:-----:|:-----:|:-----: |\n",
    "|**Linear Regression** |24.37 |19.54 |\n",
    "|**Ridge Regression**|24.69 |19.54 |\n",
    "|**K Nearest Neighbours**|3.97|13.76|\n",
    "\n",
    "The in sample MSE for kNN is much lower than both linear and ridge regression. This is probably due to the fact that the data point itself is considered to be one of the nearest neighbours as the distance to itself is 0. Hence, this causes the predicted value for the data points to be much closer to the actual value.\n",
    "\n",
    "The kNN model also performs better than both linear and ridge regression for out of sample test data, as shown by its lower MSE. This might be because the kNN algorithm is a local model and is able to give a better prediction when the data itself is not entirely linear separable. The model generalises well to data points that do not \"fit\" nicely on a linear line, and hence would also be able to better predict the outliers in the dataset that do not follow the pattern of a line. \n"
   ]
  },
  {
   "cell_type": "markdown",
   "metadata": {},
   "source": [
    "## Task 2: Classification"
   ]
  },
  {
   "cell_type": "markdown",
   "metadata": {},
   "source": [
    "Similar to Task 1, we import the classifiation train and test data, standardise them, and also split the training dataset into 5 different folds for cross validation"
   ]
  },
  {
   "cell_type": "code",
   "execution_count": 67,
   "metadata": {},
   "outputs": [],
   "source": [
    "np.random.seed(SEED_VALUE)\n",
    "classification_train_data = np.loadtxt(\"./classification_train.csv\", delimiter=\",\")\n",
    "classification_test_data = np.loadtxt(\"./classification_test.csv\", delimiter=\",\")\n",
    "train_pd = pd.read_csv(\"./classification_train.csv\")\n",
    "np.random.shuffle(classification_train_data)\n",
    "np.random.shuffle(classification_test_data)"
   ]
  },
  {
   "cell_type": "code",
   "execution_count": 68,
   "metadata": {},
   "outputs": [],
   "source": [
    "classification_train_X = classification_train_data[:, :-1]\n",
    "classification_train_y = classification_train_data[:, -1]\n",
    "classification_test_X = classification_test_data[:, :-1]\n",
    "classification_test_y = classification_test_data[:, -1]\n",
    "\n",
    "# again, we standardise the data set to allow each feature to have values over similar ranges. This is a good practice.\n",
    "classification_train_X, mean, sigma = standardize(classification_train_X)\n",
    "classification_test_X, _, _ = standardize(classification_test_X, mean, sigma)"
   ]
  },
  {
   "cell_type": "code",
   "execution_count": 69,
   "metadata": {},
   "outputs": [],
   "source": [
    "classification_folds = split_data(classification_train_data, 5)"
   ]
  },
  {
   "cell_type": "markdown",
   "metadata": {},
   "source": [
    "#### Task 2.1: Logistic Regression\n",
    "\n",
    "For Logistic Regression, we conduct linear regression on our dataset and pass the predicted values from this linear model through the logistic function. This gives us the probability, p of the data point belonging to a certain class. If p is greater than the decision threshold, we predict the data point to be in class 1. Otherwise, the data point will be in class 0."
   ]
  },
  {
   "cell_type": "markdown",
   "metadata": {},
   "source": [
    "The model learns parameters $\\boldsymbol \\beta$ and $\\boldsymbol \\beta_0$ and pass the output of this function through the logistic function. The output of this operation is $\\hat{\\boldsymbol y}_{\\text{log}}$:\n",
    "\n",
    "$$\n",
    "\\hat{\\boldsymbol y}_{\\text{log}} = f(\\boldsymbol X \\boldsymbol\\beta+ \\beta_0)\n",
    "$$\n",
    "where $\\boldsymbol X = [X^{(1)}, X^{(2)}, \\dots, X^{(n)}]$, and $X^{(i)} \\in \\mathbb R^d$.\n",
    "\n",
    "$\\hat{\\boldsymbol y}_{\\text{log}}$ gives the probability of the given data point belonging to one of the two classes. A value of 1 is assigned to this data point if the probability is > $\\tau$, a decision threshold. Otherwise, this value is 0."
   ]
  },
  {
   "cell_type": "code",
   "execution_count": 41,
   "metadata": {},
   "outputs": [],
   "source": [
    "def logistic_fn(x):\n",
    "    return 1 / (1 + np.exp(-x))"
   ]
  },
  {
   "cell_type": "code",
   "execution_count": 42,
   "metadata": {},
   "outputs": [],
   "source": [
    "# predicts value of ylog given a test dataset, X, and optimal values of beta and beta_0\n",
    "def predict_log_reg(X, beta_optimal, beta_0_optimal):\n",
    "    \"\"\"\n",
    "        Obtain the predicted value using beta optimals and pass \n",
    "        this outcome through the logistic function.\n",
    "    \"\"\"\n",
    "    y_log = logistic_fn(X @ beta_optimal + beta_0_optimal)\n",
    "    return y_log"
   ]
  },
  {
   "cell_type": "markdown",
   "metadata": {},
   "source": [
    "From the lectures, the cost function for logistic regression is \n",
    "$$\n",
    "\\mathcal L = - \\frac{1}{n} \\sum_{i=1}^n y^{(i)} \\log(\\hat{y}_{\\text{log}}^{(i)}) + (1-y^{(i)}) \\log (1-\\hat{y}_{\\text{log}}^{(i)}) \\, .\n",
    "$$\n",
    "\n",
    "By using gradient descent to optimise the cost function, we take the derivatives with respect to $\\boldsymbol \\beta$ and $\\boldsymbol \\beta_0$, giving:\n",
    "\n",
    "$$\n",
    "\\frac{\\partial \\mathcal L}{\\partial \\boldsymbol \\beta^{(i)}} = \\frac{1}{n} \\sum_{i=1}^n (  \\hat{y}_{\\text{log}}^{(i)} - y^{(i)} ) X^{(i)}\n",
    "$$\n",
    " \n",
    "$$\n",
    "\\frac{\\partial \\mathcal L}{\\partial \\beta_0} = \\frac{1}{n} \\sum_{i=1}^n ( \\hat{y}_{\\text{log}}^{(i)} - y^{(i)})\n",
    "$$\n",
    "\n",
    "$\\boldsymbol \\beta$ and $\\boldsymbol \\beta_0$ are updated using the formulas: \n",
    "\n",
    "$$\n",
    "{\\boldsymbol \\beta^{(i)}} = {\\boldsymbol \\beta^{(i-1)}} - \\alpha * \\frac{\\partial \\mathcal L}{\\partial \\boldsymbol \\beta}\n",
    "$$\n",
    "\n",
    "$$\n",
    "{\\boldsymbol \\beta_0^{(i)}} = {\\boldsymbol \\beta_0^{(i-1)}} - \\alpha * \\frac{\\partial \\mathcal L}{\\partial \\boldsymbol \\beta_0}\n",
    "$$\n",
    "\n",
    "where $\\boldsymbol \\alpha$ is the learning rate.\n",
    "\n",
    "$\\boldsymbol \\beta$ and $\\boldsymbol \\beta_0$ are initialised with zeros. Both $\\boldsymbol \\beta$ and $\\boldsymbol \\beta_0$ are continuously updated for every iteration."
   ]
  },
  {
   "cell_type": "code",
   "execution_count": 43,
   "metadata": {},
   "outputs": [],
   "source": [
    "# given number of features, d, initialise a 1D beta vector with shape (d,) with zeros as values. \n",
    "# initialise beta_0 to 0 as well\n",
    "def initialise(d):\n",
    "    beta = np.zeros(d, dtype=np.float64)\n",
    "    beta_0 = 0\n",
    "    return beta, beta_0"
   ]
  },
  {
   "cell_type": "code",
   "execution_count": 44,
   "metadata": {},
   "outputs": [],
   "source": [
    "#performs a forward pass on the data by predicting y_log. Returns the loss value, and the derivatives of the loss with respect to  beta and beta_0\n",
    "def forward(X, y, beta, beta_0):\n",
    "    n = X.shape[0]\n",
    "    # predict y_log\n",
    "    y_predicted = predict_log_reg(X, beta, beta_0)\n",
    "\n",
    "    # calculate the difference between y_predicted and y_actual\n",
    "    y_diff = y_predicted - y\n",
    "    \n",
    "    # calculate gradients\n",
    "    grad_beta = (y_diff @ X) / n\n",
    "    grad_beta_0 = np.sum(y_diff) / n\n",
    "\n",
    "    # cost function\n",
    "    cost = (-1) * np.mean(y * np.log(y_predicted) + (1 - y) * np.log(1 - y_predicted), axis=0)\n",
    "    \n",
    "    grads = {}\n",
    "    grads[\"beta\"] = grad_beta\n",
    "    grads[\"beta_0\"] = grad_beta_0\n",
    "    return cost, grads"
   ]
  },
  {
   "cell_type": "markdown",
   "metadata": {},
   "source": [
    "The actual optimisation is conducted by updating $\\beta$ and $\\beta_0$ with a learning rate ot $\\alpha$ using gradient descent for 5000 iterations. The optimal learning rate is obtained through cross validation. The default value is set to 0.01."
   ]
  },
  {
   "cell_type": "code",
   "execution_count": 45,
   "metadata": {},
   "outputs": [],
   "source": [
    "def optimise_beta(X, y, beta, beta_0,learning_rate=0.01,num_of_iterations=5000, print_cost=False):\n",
    "    costs = []\n",
    "    \n",
    "    for i in range(num_of_iterations):\n",
    "        # calculate cost and gradients\n",
    "        cost, grads = forward(X, y, beta, beta_0)\n",
    "        \n",
    "        # update beta\n",
    "        beta = beta - learning_rate * grads[\"beta\"]\n",
    "        beta_0 = beta_0 - learning_rate * grads[\"beta_0\"]\n",
    "        \n",
    "        #record the cost \n",
    "        if i % 500 == 0:\n",
    "            costs.append(cost)\n",
    "            if print_cost:\n",
    "                print(\"cost after iteration {}: {} \".format(i, cost))\n",
    "\n",
    "    params = {\"beta\":beta, \"beta_0\":beta_0}\n",
    "    return params, costs"
   ]
  },
  {
   "cell_type": "markdown",
   "metadata": {},
   "source": [
    "The labels for the test set is predicted after the $\\beta$ parameters are calculated."
   ]
  },
  {
   "cell_type": "code",
   "execution_count": 46,
   "metadata": {},
   "outputs": [],
   "source": [
    "def predict_class(X, beta, beta_0, decision_threshold=0.5):\n",
    "    #compute vector y_log that predicts possibilities of data point belonging to class 1\n",
    "    y_log = predict_log_reg(X, beta, beta_0)\n",
    "    \n",
    "    # if y_log > decision threshold, classify data point as 1, otherwise 0\n",
    "    y_log[y_log > decision_threshold] = 1\n",
    "    y_log[y_log <= decision_threshold] = 0\n",
    "    \n",
    "    return y_log\n",
    "    "
   ]
  },
  {
   "cell_type": "markdown",
   "metadata": {},
   "source": [
    "Since the task is classification, we can use accuracy as a metric to determine the performance of our model. Accuracy is calculated using (TP + TN) / (Total number of data points)"
   ]
  },
  {
   "cell_type": "code",
   "execution_count": 47,
   "metadata": {},
   "outputs": [],
   "source": [
    "def calc_accuracy(y_actual, y_predicted):\n",
    "    return 1 - np.mean(np.abs(y_predicted - y_actual))"
   ]
  },
  {
   "cell_type": "code",
   "execution_count": 48,
   "metadata": {},
   "outputs": [],
   "source": [
    "# perform cross_validation on given learning_rate and threshold and returns \n",
    "# the average accuracy across all folds\n",
    "def log_cross_validation(learning_rate, threshold):\n",
    "    accuracy = 0\n",
    "    n = len(classification_folds)\n",
    "    # perform cross validaton across 5 folds\n",
    "    for i in range(n):\n",
    "        # initialise beta\n",
    "        beta, beta_0 = initialise(classification_train_X.shape[1])\n",
    "        \n",
    "        train_X, train_y, test_X, test_y = generate_test_train_sets(classification_folds, i)\n",
    "        # optimise beta using sgd\n",
    "        params, costs = optimise_beta(train_X, train_y, beta, beta_0, learning_rate)\n",
    "        \n",
    "        # predict y_values and calculate accuracy of our model\n",
    "        y_test_predicted= predict_class(test_X, params[\"beta\"], params[\"beta_0\"], threshold)\n",
    "        accuracy += calc_accuracy(test_y, y_test_predicted)\n",
    "    \n",
    "    average_acc = accuracy / n\n",
    "    return average_acc"
   ]
  },
  {
   "cell_type": "code",
   "execution_count": 49,
   "metadata": {},
   "outputs": [],
   "source": [
    "#performs grid search across the various hyperparameter combinations and choose the one giving highest accuracy\n",
    "def grid_search(grid):\n",
    "    opt_combi = None\n",
    "    max_acc = 0\n",
    "    for combi, acc in grid.items():\n",
    "        if acc >= max_acc:\n",
    "            opt_combi = combi\n",
    "            max_acc = acc\n",
    "    return opt_combi, max_acc"
   ]
  },
  {
   "cell_type": "code",
   "execution_count": 50,
   "metadata": {},
   "outputs": [],
   "source": [
    "#finds optimal hyperparameters for logistic regression model\n",
    "def tune_hyperparameters(learning_rates, thresholds):\n",
    "    # perform grid search on hyperparameters\n",
    "    grid = {}\n",
    "    \n",
    "    # loop through both parameters to obtain average accuracy for each combination\n",
    "    for rate in learning_rates:\n",
    "        for threshold in thresholds:\n",
    "            # perform cross validation for each learning rate, threshold pair and take the average accurae\n",
    "            average_accuracy = log_cross_validation(rate, threshold)\n",
    "            #store resultant accuracy in grid\n",
    "            grid[(rate, threshold)] = average_accuracy\n",
    "    \n",
    "    opt_combi, max_acc = grid_search(grid)\n",
    "    return opt_combi, grid      "
   ]
  },
  {
   "cell_type": "markdown",
   "metadata": {},
   "source": [
    "We run the model to obtain the best hyperparameters for our dataset. \n",
    "The learning rates are defined as "
   ]
  },
  {
   "cell_type": "code",
   "execution_count": 51,
   "metadata": {},
   "outputs": [],
   "source": [
    "def model(X_train, y_train, X_test, y_test, num_of_iterations=5000):\n",
    "    beta, beta_0 = initialise(X_train.shape[1])\n",
    "    learning_rate = [0.1, 0.01, 0.02, 0.05, 0.001, 0.002, 0.0001]\n",
    "    decision_threshold = np.linspace(0.1, 0.9, num=9)\n",
    "    \n",
    "    # perform cross validation to obtain the optimal learning rate and decision threshold\n",
    "    (optimal_learning_rate, optimal_decision_threshold), grid = tune_hyperparameters(learning_rate, decision_threshold)\n",
    "    print(\"best learning_rate\", optimal_learning_rate)    \n",
    "    print(\"best threshold\", optimal_decision_threshold)\n",
    "    \n",
    "    # train the final classification model over the entire training set using the optimal hyperparameters \n",
    "    params, costs = optimise_beta(X_train, y_train, beta, beta_0, optimal_learning_rate,num_of_iterations, print_cost=True)\n",
    "    \n",
    "    # predict y_log for the test set and training set\n",
    "    y_pred_test = predict_class(X_test, params[\"beta\"], params[\"beta_0\"], optimal_decision_threshold)\n",
    "    y_pred_train = predict_class(X_train, params[\"beta\"], params[\"beta_0\"], optimal_decision_threshold)\n",
    "    \n",
    "    # calculate mean accuracies for both the test and train set to determine the performance of our model\n",
    "    accuracy_test = calc_accuracy(y_test, y_pred_test)\n",
    "    accuracy_train = calc_accuracy(y_train, y_pred_train)\n",
    "    print(\"accuracy of model on test set\", accuracy_test)\n",
    "    print(\"accuracy of model on train set\", accuracy_train)\n",
    "    return {\"costs\":costs, \"accuracy_grid\": grid, \n",
    "            \"learning_rate\":learning_rate, \"decision_threshold\": decision_threshold}"
   ]
  },
  {
   "cell_type": "code",
   "execution_count": 52,
   "metadata": {},
   "outputs": [
    {
     "name": "stdout",
     "output_type": "stream",
     "text": [
      "best learning_rate 0.1\n",
      "best threshold 0.5\n",
      "cost after iteration 0: 0.6931471805599452 \n",
      "cost after iteration 500: 0.5303239866632354 \n",
      "cost after iteration 1000: 0.5303210871508574 \n",
      "cost after iteration 1500: 0.530321071766102 \n",
      "cost after iteration 2000: 0.5303210716655677 \n",
      "cost after iteration 2500: 0.5303210716649102 \n",
      "cost after iteration 3000: 0.5303210716649058 \n",
      "cost after iteration 3500: 0.5303210716649057 \n",
      "cost after iteration 4000: 0.5303210716649057 \n",
      "cost after iteration 4500: 0.5303210716649058 \n",
      "accuracy of model on test set 0.74\n",
      "accuracy of model on train set 0.745\n"
     ]
    }
   ],
   "source": [
    "d = model(classification_train_X, classification_train_y, classification_test_X, classification_test_y)"
   ]
  },
  {
   "cell_type": "markdown",
   "metadata": {},
   "source": [
    "#### 2.1.2\n",
    "Compare the performance of your optimal model on the training data and on the test data by\n",
    "their mean accuracies."
   ]
  },
  {
   "cell_type": "markdown",
   "metadata": {},
   "source": [
    "The in sample mean accuracy is 74.5, while the out of sample mean accuracy is 74. The model performs slightly better on the train set than the test set. This is to be expected since the model is fitted on the training set. However, in question 2.2.2, we explore the reasons why accuracy is not the best metric to measure the performance of this model."
   ]
  },
  {
   "cell_type": "markdown",
   "metadata": {},
   "source": [
    "### Task 2.2 Random Forest"
   ]
  },
  {
   "cell_type": "markdown",
   "metadata": {},
   "source": [
    "Random forest is an ensembling method that aggregates and randomisies a list of decision trees to reduce overfitting of the model and to allow our model to become more robust to noise. We create B decision trees to constitute the forest by sampling B samples of size N from our training dataset, with replacement. To build each decision tree, we split the dataset on each feature descriptor and find the feature descriptor that gives us the maximum information gain when we split on that feature. This information gain can be calculated by cross entropy. We continue splitting on other features until all features have been used, or when the maximal depth of the tree has been reached. Each leaf in the tree gives us a probability pair that makes up the probability of that leaf predicting a certain class. We then use the various trees in the forest to predict a value for the test data point and sum up the probabilities across all these trees. The higher probability would dictate the class that the data point is assigned to. There are several hyperparameters that we have to define before we train our model, namely number of trees, depth of tree and the number of features to be chosen as a potential splitting point at each split. The optimal hyperparameters will be chosen again by 5-fold cross validation."
   ]
  },
  {
   "cell_type": "markdown",
   "metadata": {},
   "source": [
    "### Cross Entropy loss\n",
    "\n",
    "The cost function that we want to optimise for random forests is cross entropy. Entropy is defined as the average amount of information of the current state of the dataset. Cross entropy has the formula:\n",
    "\n",
    "$$\n",
    "CE[\\pi(R_\\alpha)] = \\sum_{i=1}^n  \\pi_n(R_\\alpha)log(1 - \\pi_n(R_\\alpha))\n",
    "$$\n",
    "given region $R_\\alpha$, across all the classes n\n"
   ]
  },
  {
   "cell_type": "code",
   "execution_count": 53,
   "metadata": {},
   "outputs": [],
   "source": [
    "from collections import Counter\n",
    "\n",
    "# return value of cross entropy using equation above\n",
    "def cross_entropy(y):\n",
    "    \"\"\" \n",
    "    Calculate the cross entropy for labels.\n",
    "    Arguments:\n",
    "        y: vector of training labels, of shape (N,).\n",
    "    Returns:\n",
    "        (float): the cross entropy for y.\n",
    "    \"\"\"\n",
    "    \n",
    "    count = Counter(y)\n",
    "    N = len(y)\n",
    "    probability = np.zeros(len(count.keys()) + 1)\n",
    "    \n",
    "    for label in count.keys():\n",
    "        probability[int(label)] = count[label] / N\n",
    "    \n",
    "    # if the calculated probability is 1, this number is set to a number slightly smaller than 1 to overcome the np.log error\n",
    "    altered_arr = np.where(probability == 1, 0.9999, probability)\n",
    "    cross_ent = np.sum(probability * np.log(1 - altered_arr))\n",
    "    return cross_ent\n"
   ]
  },
  {
   "cell_type": "code",
   "execution_count": 54,
   "metadata": {},
   "outputs": [],
   "source": [
    "def split_dataset(X, y, column, value):\n",
    "    \"\"\"\n",
    "    Return the split of data whose column-th feature equals value.\n",
    "    Arguments:\n",
    "      X: training features, of shape (N, D).\n",
    "      y: vector of training labels, of shape (N,).\n",
    "      column: the column of the feature for splitting.\n",
    "      value: the value of the column-th feature for splitting.\n",
    "      sample_weights: weights for each samples, of shape (N,).\n",
    "    Returns:\n",
    "      (np.array): the subset of X whose column-th feature equals value.\n",
    "      (np.array): the subset of y whose column-th feature equals value.\n",
    "    \"\"\" \n",
    "    ret = []\n",
    "    featVec = X[:, column]\n",
    "    X = X[:,[i for i in range(X.shape[1]) if i!=column]]\n",
    "    \n",
    "    # get the indices of rows with column having value equal to value passed in as parameter\n",
    "    for i in range(len(featVec)):\n",
    "        if featVec[i]==value:\n",
    "            ret.append(i)\n",
    "    \n",
    "    # returns a subset of X whose column-th feature equals value\n",
    "    sub_X = X[ret,:]\n",
    "    sub_y = y[ret]\n",
    "\n",
    "    return sub_X, sub_y"
   ]
  },
  {
   "cell_type": "markdown",
   "metadata": {},
   "source": [
    "Information gain is defined as the difference between the initial entropy and the weighted average entropy of the produced subsets. We want to choose the feature that gives us the maximum information gain after the split."
   ]
  },
  {
   "cell_type": "code",
   "execution_count": 55,
   "metadata": {},
   "outputs": [],
   "source": [
    "# calculate the information gain by splitting on this feature column\n",
    "def info_gain(X, y, column):\n",
    "    \"\"\"\n",
    "    Calculate the resulted information gain given a vector of features.\n",
    "    Arguments:\n",
    "      X: training features, of shape (N, D).\n",
    "      y: vector of training labels, of shape (N,).\n",
    "      column: the column of the feature for calculating. 0 <= column < D\n",
    "    Returns:\n",
    "      (float): the resulted info gain after splitting by this feature.\n",
    "    \"\"\"\n",
    "\n",
    "    n = X.shape[0]   \n",
    "    old_entropy = cross_entropy(y)\n",
    "    \n",
    "    unique_vals = np.unique(X[:, column])\n",
    "    new_entropy = 0.0\n",
    "    \n",
    "    #split the values of i-th feature and calculate the cost \n",
    "    for value in unique_vals:\n",
    "        sub_X, sub_y = split_dataset(X, y, column, value) \n",
    "        prob = sub_X.shape[0] / n\n",
    "        new_entropy += prob * cross_entropy(sub_y) \n",
    "\n",
    "    ig = old_entropy - new_entropy # information gain\n",
    "    return ig"
   ]
  },
  {
   "cell_type": "code",
   "execution_count": 56,
   "metadata": {},
   "outputs": [],
   "source": [
    "def choose_best_feature(X, y, max_no_of_features):\n",
    "    best_feature_idx = 0\n",
    "    n_features = X.shape[1]\n",
    "    \n",
    "    #select a random subset of features to split at as part of feature bagging\n",
    "    feature_subset = np.random.permutation(range(n_features))[:max_no_of_features]\n",
    "\n",
    "    # use C4.5 algorirhm to select best feature to split on from feature subset\n",
    "    best_gain_cost = 0.0\n",
    "    for feature in feature_subset:\n",
    "        info_gain_cost = info_gain(X, y, feature)          \n",
    "        if info_gain_cost > best_gain_cost:\n",
    "            best_gain_cost = info_gain_cost\n",
    "            best_feature_idx = feature              \n",
    "\n",
    "    return best_feature_idx"
   ]
  },
  {
   "cell_type": "code",
   "execution_count": 57,
   "metadata": {},
   "outputs": [],
   "source": [
    "def build_tree(X, y, features, depth, max_depth=10, max_no_of_features=4, min_samples_leaf=2):\n",
    "    mytree = dict()\n",
    "    # if (i) no feature, (ii) all lables are the same, (iii) depth exceed or (iv) X is too small\n",
    "    if len(features)==0 or len(np.unique(y))==1 or depth>=max_depth or len(X) <= min_samples_leaf: \n",
    "        return probability_label(y)\n",
    "    else:\n",
    "        best_feature_index = choose_best_feature(X, y, max_no_of_features)\n",
    "        features = features[:]\n",
    "        np.delete(features, best_feature_index)\n",
    "        \n",
    "        mytree = {best_feature_index:{}}\n",
    "        unique_vals = np.unique(X[:, best_feature_index])\n",
    "        # split on each unique value for the column of the best feature chosen and create a dictionary of decision trees recursively\n",
    "        for value in unique_vals:\n",
    "            sub_X, sub_y = split_dataset(X, y, best_feature_index, value)\n",
    "            mytree[best_feature_index][value] = build_tree(sub_X, sub_y, features, depth+1, max_depth, max_no_of_features)\n",
    "\n",
    "        return mytree"
   ]
  },
  {
   "cell_type": "code",
   "execution_count": 58,
   "metadata": {},
   "outputs": [],
   "source": [
    "# returns the label that appears the most in y\n",
    "labels = np.unique(classification_train_y)\n",
    "def probability_label(y):\n",
    "    # returns the number of occurences of each label in y\n",
    "    count = Counter(y)\n",
    "    probability_of_returning_label = [count[label] / len(y) for label in labels]\n",
    "    return probability_of_returning_label"
   ]
  },
  {
   "cell_type": "markdown",
   "metadata": {},
   "source": [
    "Now, we have all the functions we need to build a decision tree. We can construct a random forest using all the functions from above. Bootstrapping is used to create multiple decision trees. We first produce B random samples from our training dataset. Each sample has size of 800, which is the size of the training dataset. I chose this value since our training dataset is on the lower end of a medium sized dataset and it would be better to have all the data represented when building the decision trees. In additiion, each sample is also stated to have the same size as the original dataset in \"Applied Predictive Modeling\" by Max Khun and Kjell Johnson."
   ]
  },
  {
   "cell_type": "code",
   "execution_count": 59,
   "metadata": {},
   "outputs": [],
   "source": [
    "# produce num_of_trees random samples from S, each of size dataset\n",
    "def generate_random_samples(X, y, num_of_trees):\n",
    "    N, _ = X.shape\n",
    "    forest_dataset = []\n",
    "    \n",
    "    # generate N random samples from the dataset with replacement\n",
    "    for i in range(num_of_trees):\n",
    "        indices = np.random.choice(N, N)\n",
    "        sample_X = X[indices]\n",
    "        sample_y = y[indices]\n",
    "        forest_dataset.append((sample_X, sample_y))\n",
    "    return forest_dataset\n",
    "\n",
    "# generate a random forest with num_of_trees\n",
    "def random_forest(num_of_trees, max_depth, max_num_of_features, X, y):\n",
    "    forest_dataset = generate_random_samples(X, y, num_of_trees)\n",
    "    forest = []\n",
    "    feature_names = list(range(classification_train_X.shape[1]))\n",
    "    for tree in forest_dataset:\n",
    "        X, y = tree\n",
    "        root = build_tree(X, y, feature_names, 0, max_depth, max_num_of_features)\n",
    "        forest.append(root)\n",
    "    return forest"
   ]
  },
  {
   "cell_type": "code",
   "execution_count": 60,
   "metadata": {},
   "outputs": [],
   "source": [
    "# classify a data point x using the given treee\n",
    "def classify(tree, x):\n",
    "    #first element\n",
    "    feature_name = list(tree.keys())[0]\n",
    "    second_dit = tree[feature_name]            \n",
    "    key = x[feature_name]\n",
    "    if key not in second_dict:\n",
    "        key = np.random.choice(list(second_dict.keys()))\n",
    "    value_of_key = second_dict[key]\n",
    "    if isinstance(value_of_key, dict):\n",
    "        label = classify(value_of_key, x)\n",
    "    else:\n",
    "        label=value_of_key\n",
    "    return label\n",
    "\n",
    "# predict the class of a data point x given forest\n",
    "def rf_predict(forest, x):\n",
    "    # values at each index represent sum or probabilities from each tree that gave a predicted value of that index\n",
    "    res = [0, 0]\n",
    "    \n",
    "    # sum up the probabilities of the data point being classified as 0 or 1 obtained from each tree\n",
    "    for tree in forest:\n",
    "        outcome = classify(tree, x)\n",
    "        res[0] += outcome[0]\n",
    "        res[1] += outcome[1]\n",
    "    \n",
    "    # return label with max probability\n",
    "    if res[0] >= res[1]:\n",
    "        return 0\n",
    "    return 1"
   ]
  },
  {
   "cell_type": "code",
   "execution_count": 61,
   "metadata": {},
   "outputs": [],
   "source": [
    "# generate the confusion matrix to evaluate the performance of our model\n",
    "def rf_confusion_matrix(y_pred, y_actual):\n",
    "    data = {'y_predicted': y_pred, 'y_actual':y_actual}\n",
    "    df = pd.DataFrame(data, columns=['y_predicted', 'y_actual'])\n",
    "    confusion_matrix = pd.crosstab(df['y_actual'], df['y_predicted'], rownames=['Actual'], colnames=['Predicted'])\n",
    "    return confusion_matrix\n"
   ]
  },
  {
   "cell_type": "code",
   "execution_count": 62,
   "metadata": {},
   "outputs": [],
   "source": [
    "def rf_accuracy(y_pred, y_actual):\n",
    "    n = len(y_actual)\n",
    "    return 1 - np.mean(np.abs(y_pred - y_actual))"
   ]
  },
  {
   "cell_type": "code",
   "execution_count": 63,
   "metadata": {},
   "outputs": [],
   "source": [
    "\n",
    "def rf_cross_validation(num_trees, max_depth, max_num_of_features):\n",
    "    total_acc = 0\n",
    "    n = len(classification_folds)\n",
    "\n",
    "    for i in range(n):\n",
    "        train_X, train_y, test_X, test_y = generate_test_train_sets(classification_folds, i)\n",
    "        \n",
    "        #train a forest based on the hyperparameters given \n",
    "        forest = random_forest(num_trees, max_depth, max_num_of_features, train_X, train_y)\n",
    "        # predict the class for the data points in the y se\n",
    "        y_pred_test = np.array([rf_predict(forest, x) for x in test_X])\n",
    "        # calculate the accuracy of the model\n",
    "        acc = rf_accuracy(y_pred_test, test_y)\n",
    "        total_acc += acc\n",
    "    \n",
    "    return total_acc / n\n",
    "\n",
    "# tune hyperparameters of random forest\n",
    "def rf_tune_hyperparameters(number_of_trees, max_depth, maximum_number_of_features):\n",
    "    i = len(number_of_trees)\n",
    "    j = len(max_depth)\n",
    "    k = len(maximum_number_of_features)\n",
    "    print(\"i, {}, j, {}, k, {}\".format(i, j, k))\n",
    "    print(\"i\", number_of_trees)\n",
    "    print(\"j\", max_depth)\n",
    "    print(\"k\", maximum_number_of_features)\n",
    "    grid = {}\n",
    "    \n",
    "    # loop through each hyperparameter\n",
    "    for num_trees in number_of_trees:\n",
    "        for depth in max_depth:\n",
    "            for num_of_features in maximum_number_of_features: \n",
    "                print(\"num_trees: {}, depth: {}, features: {}\".format(num_trees, depth, num_of_features))\n",
    "                avg_accuracy = rf_cross_validation(num_trees, depth, num_of_features)\n",
    "                grid[(num_trees, depth, num_of_features)] = avg_accuracy\n",
    "    \n",
    "\n",
    "    chosen_combi, max_acc = grid_search(grid)\n",
    "    \n",
    "    t, d, f = chosen_combi\n",
    "    print(\"max_accuracy: \", max_acc)\n",
    "    print(\"num_trees: {}, depth: {}, features: {}\".format(t, d, f))\n",
    "    \n",
    "    return chosen_combi, grid"
   ]
  },
  {
   "cell_type": "code",
   "execution_count": 275,
   "metadata": {},
   "outputs": [
    {
     "name": "stdout",
     "output_type": "stream",
     "text": [
      "i, 11, j, 8, k, 5\n",
      "i [5, 6, 7, 8, 9, 10, 11, 12, 13, 14, 15]\n",
      "j [3, 4, 5, 6, 7, 8, 9, 10]\n",
      "k [2, 3, 4, 5, 6]\n",
      "num_trees: 5, depth: 3, features: 2\n",
      "num_trees: 5, depth: 3, features: 3\n",
      "num_trees: 5, depth: 3, features: 4\n",
      "num_trees: 5, depth: 3, features: 5\n",
      "num_trees: 5, depth: 3, features: 6\n",
      "num_trees: 5, depth: 4, features: 2\n",
      "num_trees: 5, depth: 4, features: 3\n",
      "num_trees: 5, depth: 4, features: 4\n",
      "num_trees: 5, depth: 4, features: 5\n",
      "num_trees: 5, depth: 4, features: 6\n",
      "num_trees: 5, depth: 5, features: 2\n",
      "num_trees: 5, depth: 5, features: 3\n",
      "num_trees: 5, depth: 5, features: 4\n",
      "num_trees: 5, depth: 5, features: 5\n",
      "num_trees: 5, depth: 5, features: 6\n",
      "num_trees: 5, depth: 6, features: 2\n",
      "num_trees: 5, depth: 6, features: 3\n",
      "num_trees: 5, depth: 6, features: 4\n",
      "num_trees: 5, depth: 6, features: 5\n",
      "num_trees: 5, depth: 6, features: 6\n",
      "num_trees: 5, depth: 7, features: 2\n",
      "num_trees: 5, depth: 7, features: 3\n",
      "num_trees: 5, depth: 7, features: 4\n",
      "num_trees: 5, depth: 7, features: 5\n",
      "num_trees: 5, depth: 7, features: 6\n",
      "num_trees: 5, depth: 8, features: 2\n",
      "num_trees: 5, depth: 8, features: 3\n",
      "num_trees: 5, depth: 8, features: 4\n",
      "num_trees: 5, depth: 8, features: 5\n",
      "num_trees: 5, depth: 8, features: 6\n",
      "num_trees: 5, depth: 9, features: 2\n",
      "num_trees: 5, depth: 9, features: 3\n",
      "num_trees: 5, depth: 9, features: 4\n",
      "num_trees: 5, depth: 9, features: 5\n",
      "num_trees: 5, depth: 9, features: 6\n",
      "num_trees: 5, depth: 10, features: 2\n",
      "num_trees: 5, depth: 10, features: 3\n",
      "num_trees: 5, depth: 10, features: 4\n",
      "num_trees: 5, depth: 10, features: 5\n",
      "num_trees: 5, depth: 10, features: 6\n",
      "num_trees: 6, depth: 3, features: 2\n",
      "num_trees: 6, depth: 3, features: 3\n",
      "num_trees: 6, depth: 3, features: 4\n",
      "num_trees: 6, depth: 3, features: 5\n",
      "num_trees: 6, depth: 3, features: 6\n",
      "num_trees: 6, depth: 4, features: 2\n",
      "num_trees: 6, depth: 4, features: 3\n",
      "num_trees: 6, depth: 4, features: 4\n",
      "num_trees: 6, depth: 4, features: 5\n",
      "num_trees: 6, depth: 4, features: 6\n",
      "num_trees: 6, depth: 5, features: 2\n",
      "num_trees: 6, depth: 5, features: 3\n",
      "num_trees: 6, depth: 5, features: 4\n",
      "num_trees: 6, depth: 5, features: 5\n",
      "num_trees: 6, depth: 5, features: 6\n",
      "num_trees: 6, depth: 6, features: 2\n",
      "num_trees: 6, depth: 6, features: 3\n",
      "num_trees: 6, depth: 6, features: 4\n",
      "num_trees: 6, depth: 6, features: 5\n",
      "num_trees: 6, depth: 6, features: 6\n",
      "num_trees: 6, depth: 7, features: 2\n",
      "num_trees: 6, depth: 7, features: 3\n",
      "num_trees: 6, depth: 7, features: 4\n",
      "num_trees: 6, depth: 7, features: 5\n",
      "num_trees: 6, depth: 7, features: 6\n",
      "num_trees: 6, depth: 8, features: 2\n",
      "num_trees: 6, depth: 8, features: 3\n",
      "num_trees: 6, depth: 8, features: 4\n",
      "num_trees: 6, depth: 8, features: 5\n",
      "num_trees: 6, depth: 8, features: 6\n",
      "num_trees: 6, depth: 9, features: 2\n",
      "num_trees: 6, depth: 9, features: 3\n",
      "num_trees: 6, depth: 9, features: 4\n",
      "num_trees: 6, depth: 9, features: 5\n",
      "num_trees: 6, depth: 9, features: 6\n",
      "num_trees: 6, depth: 10, features: 2\n",
      "num_trees: 6, depth: 10, features: 3\n",
      "num_trees: 6, depth: 10, features: 4\n",
      "num_trees: 6, depth: 10, features: 5\n",
      "num_trees: 6, depth: 10, features: 6\n",
      "num_trees: 7, depth: 3, features: 2\n",
      "num_trees: 7, depth: 3, features: 3\n",
      "num_trees: 7, depth: 3, features: 4\n",
      "num_trees: 7, depth: 3, features: 5\n",
      "num_trees: 7, depth: 3, features: 6\n",
      "num_trees: 7, depth: 4, features: 2\n",
      "num_trees: 7, depth: 4, features: 3\n",
      "num_trees: 7, depth: 4, features: 4\n",
      "num_trees: 7, depth: 4, features: 5\n",
      "num_trees: 7, depth: 4, features: 6\n",
      "num_trees: 7, depth: 5, features: 2\n",
      "num_trees: 7, depth: 5, features: 3\n",
      "num_trees: 7, depth: 5, features: 4\n",
      "num_trees: 7, depth: 5, features: 5\n",
      "num_trees: 7, depth: 5, features: 6\n",
      "num_trees: 7, depth: 6, features: 2\n",
      "num_trees: 7, depth: 6, features: 3\n",
      "num_trees: 7, depth: 6, features: 4\n",
      "num_trees: 7, depth: 6, features: 5\n",
      "num_trees: 7, depth: 6, features: 6\n",
      "num_trees: 7, depth: 7, features: 2\n",
      "num_trees: 7, depth: 7, features: 3\n",
      "num_trees: 7, depth: 7, features: 4\n",
      "num_trees: 7, depth: 7, features: 5\n",
      "num_trees: 7, depth: 7, features: 6\n",
      "num_trees: 7, depth: 8, features: 2\n",
      "num_trees: 7, depth: 8, features: 3\n",
      "num_trees: 7, depth: 8, features: 4\n",
      "num_trees: 7, depth: 8, features: 5\n",
      "num_trees: 7, depth: 8, features: 6\n",
      "num_trees: 7, depth: 9, features: 2\n",
      "num_trees: 7, depth: 9, features: 3\n",
      "num_trees: 7, depth: 9, features: 4\n",
      "num_trees: 7, depth: 9, features: 5\n",
      "num_trees: 7, depth: 9, features: 6\n",
      "num_trees: 7, depth: 10, features: 2\n",
      "num_trees: 7, depth: 10, features: 3\n",
      "num_trees: 7, depth: 10, features: 4\n",
      "num_trees: 7, depth: 10, features: 5\n",
      "num_trees: 7, depth: 10, features: 6\n",
      "num_trees: 8, depth: 3, features: 2\n",
      "num_trees: 8, depth: 3, features: 3\n",
      "num_trees: 8, depth: 3, features: 4\n",
      "num_trees: 8, depth: 3, features: 5\n",
      "num_trees: 8, depth: 3, features: 6\n",
      "num_trees: 8, depth: 4, features: 2\n",
      "num_trees: 8, depth: 4, features: 3\n",
      "num_trees: 8, depth: 4, features: 4\n",
      "num_trees: 8, depth: 4, features: 5\n",
      "num_trees: 8, depth: 4, features: 6\n",
      "num_trees: 8, depth: 5, features: 2\n",
      "num_trees: 8, depth: 5, features: 3\n",
      "num_trees: 8, depth: 5, features: 4\n",
      "num_trees: 8, depth: 5, features: 5\n",
      "num_trees: 8, depth: 5, features: 6\n",
      "num_trees: 8, depth: 6, features: 2\n",
      "num_trees: 8, depth: 6, features: 3\n",
      "num_trees: 8, depth: 6, features: 4\n",
      "num_trees: 8, depth: 6, features: 5\n",
      "num_trees: 8, depth: 6, features: 6\n",
      "num_trees: 8, depth: 7, features: 2\n",
      "num_trees: 8, depth: 7, features: 3\n",
      "num_trees: 8, depth: 7, features: 4\n",
      "num_trees: 8, depth: 7, features: 5\n",
      "num_trees: 8, depth: 7, features: 6\n",
      "num_trees: 8, depth: 8, features: 2\n",
      "num_trees: 8, depth: 8, features: 3\n",
      "num_trees: 8, depth: 8, features: 4\n",
      "num_trees: 8, depth: 8, features: 5\n",
      "num_trees: 8, depth: 8, features: 6\n",
      "num_trees: 8, depth: 9, features: 2\n",
      "num_trees: 8, depth: 9, features: 3\n",
      "num_trees: 8, depth: 9, features: 4\n",
      "num_trees: 8, depth: 9, features: 5\n",
      "num_trees: 8, depth: 9, features: 6\n",
      "num_trees: 8, depth: 10, features: 2\n",
      "num_trees: 8, depth: 10, features: 3\n",
      "num_trees: 8, depth: 10, features: 4\n",
      "num_trees: 8, depth: 10, features: 5\n",
      "num_trees: 8, depth: 10, features: 6\n",
      "num_trees: 9, depth: 3, features: 2\n",
      "num_trees: 9, depth: 3, features: 3\n",
      "num_trees: 9, depth: 3, features: 4\n",
      "num_trees: 9, depth: 3, features: 5\n",
      "num_trees: 9, depth: 3, features: 6\n",
      "num_trees: 9, depth: 4, features: 2\n",
      "num_trees: 9, depth: 4, features: 3\n",
      "num_trees: 9, depth: 4, features: 4\n",
      "num_trees: 9, depth: 4, features: 5\n",
      "num_trees: 9, depth: 4, features: 6\n",
      "num_trees: 9, depth: 5, features: 2\n",
      "num_trees: 9, depth: 5, features: 3\n",
      "num_trees: 9, depth: 5, features: 4\n",
      "num_trees: 9, depth: 5, features: 5\n",
      "num_trees: 9, depth: 5, features: 6\n",
      "num_trees: 9, depth: 6, features: 2\n",
      "num_trees: 9, depth: 6, features: 3\n",
      "num_trees: 9, depth: 6, features: 4\n",
      "num_trees: 9, depth: 6, features: 5\n",
      "num_trees: 9, depth: 6, features: 6\n",
      "num_trees: 9, depth: 7, features: 2\n",
      "num_trees: 9, depth: 7, features: 3\n",
      "num_trees: 9, depth: 7, features: 4\n",
      "num_trees: 9, depth: 7, features: 5\n",
      "num_trees: 9, depth: 7, features: 6\n",
      "num_trees: 9, depth: 8, features: 2\n",
      "num_trees: 9, depth: 8, features: 3\n",
      "num_trees: 9, depth: 8, features: 4\n",
      "num_trees: 9, depth: 8, features: 5\n",
      "num_trees: 9, depth: 8, features: 6\n",
      "num_trees: 9, depth: 9, features: 2\n",
      "num_trees: 9, depth: 9, features: 3\n",
      "num_trees: 9, depth: 9, features: 4\n",
      "num_trees: 9, depth: 9, features: 5\n",
      "num_trees: 9, depth: 9, features: 6\n",
      "num_trees: 9, depth: 10, features: 2\n",
      "num_trees: 9, depth: 10, features: 3\n",
      "num_trees: 9, depth: 10, features: 4\n",
      "num_trees: 9, depth: 10, features: 5\n",
      "num_trees: 9, depth: 10, features: 6\n",
      "num_trees: 10, depth: 3, features: 2\n",
      "num_trees: 10, depth: 3, features: 3\n",
      "num_trees: 10, depth: 3, features: 4\n",
      "num_trees: 10, depth: 3, features: 5\n",
      "num_trees: 10, depth: 3, features: 6\n",
      "num_trees: 10, depth: 4, features: 2\n",
      "num_trees: 10, depth: 4, features: 3\n",
      "num_trees: 10, depth: 4, features: 4\n",
      "num_trees: 10, depth: 4, features: 5\n",
      "num_trees: 10, depth: 4, features: 6\n",
      "num_trees: 10, depth: 5, features: 2\n",
      "num_trees: 10, depth: 5, features: 3\n",
      "num_trees: 10, depth: 5, features: 4\n",
      "num_trees: 10, depth: 5, features: 5\n",
      "num_trees: 10, depth: 5, features: 6\n",
      "num_trees: 10, depth: 6, features: 2\n",
      "num_trees: 10, depth: 6, features: 3\n",
      "num_trees: 10, depth: 6, features: 4\n",
      "num_trees: 10, depth: 6, features: 5\n",
      "num_trees: 10, depth: 6, features: 6\n",
      "num_trees: 10, depth: 7, features: 2\n",
      "num_trees: 10, depth: 7, features: 3\n",
      "num_trees: 10, depth: 7, features: 4\n",
      "num_trees: 10, depth: 7, features: 5\n"
     ]
    },
    {
     "name": "stdout",
     "output_type": "stream",
     "text": [
      "num_trees: 10, depth: 7, features: 6\n",
      "num_trees: 10, depth: 8, features: 2\n",
      "num_trees: 10, depth: 8, features: 3\n",
      "num_trees: 10, depth: 8, features: 4\n",
      "num_trees: 10, depth: 8, features: 5\n",
      "num_trees: 10, depth: 8, features: 6\n",
      "num_trees: 10, depth: 9, features: 2\n",
      "num_trees: 10, depth: 9, features: 3\n",
      "num_trees: 10, depth: 9, features: 4\n",
      "num_trees: 10, depth: 9, features: 5\n",
      "num_trees: 10, depth: 9, features: 6\n",
      "num_trees: 10, depth: 10, features: 2\n",
      "num_trees: 10, depth: 10, features: 3\n",
      "num_trees: 10, depth: 10, features: 4\n",
      "num_trees: 10, depth: 10, features: 5\n",
      "num_trees: 10, depth: 10, features: 6\n",
      "num_trees: 11, depth: 3, features: 2\n",
      "num_trees: 11, depth: 3, features: 3\n",
      "num_trees: 11, depth: 3, features: 4\n",
      "num_trees: 11, depth: 3, features: 5\n",
      "num_trees: 11, depth: 3, features: 6\n",
      "num_trees: 11, depth: 4, features: 2\n",
      "num_trees: 11, depth: 4, features: 3\n",
      "num_trees: 11, depth: 4, features: 4\n",
      "num_trees: 11, depth: 4, features: 5\n",
      "num_trees: 11, depth: 4, features: 6\n",
      "num_trees: 11, depth: 5, features: 2\n",
      "num_trees: 11, depth: 5, features: 3\n",
      "num_trees: 11, depth: 5, features: 4\n",
      "num_trees: 11, depth: 5, features: 5\n",
      "num_trees: 11, depth: 5, features: 6\n",
      "num_trees: 11, depth: 6, features: 2\n",
      "num_trees: 11, depth: 6, features: 3\n",
      "num_trees: 11, depth: 6, features: 4\n",
      "num_trees: 11, depth: 6, features: 5\n",
      "num_trees: 11, depth: 6, features: 6\n",
      "num_trees: 11, depth: 7, features: 2\n",
      "num_trees: 11, depth: 7, features: 3\n",
      "num_trees: 11, depth: 7, features: 4\n",
      "num_trees: 11, depth: 7, features: 5\n",
      "num_trees: 11, depth: 7, features: 6\n",
      "num_trees: 11, depth: 8, features: 2\n",
      "num_trees: 11, depth: 8, features: 3\n",
      "num_trees: 11, depth: 8, features: 4\n",
      "num_trees: 11, depth: 8, features: 5\n",
      "num_trees: 11, depth: 8, features: 6\n",
      "num_trees: 11, depth: 9, features: 2\n",
      "num_trees: 11, depth: 9, features: 3\n",
      "num_trees: 11, depth: 9, features: 4\n",
      "num_trees: 11, depth: 9, features: 5\n",
      "num_trees: 11, depth: 9, features: 6\n",
      "num_trees: 11, depth: 10, features: 2\n",
      "num_trees: 11, depth: 10, features: 3\n",
      "num_trees: 11, depth: 10, features: 4\n",
      "num_trees: 11, depth: 10, features: 5\n",
      "num_trees: 11, depth: 10, features: 6\n",
      "num_trees: 12, depth: 3, features: 2\n",
      "num_trees: 12, depth: 3, features: 3\n",
      "num_trees: 12, depth: 3, features: 4\n",
      "num_trees: 12, depth: 3, features: 5\n",
      "num_trees: 12, depth: 3, features: 6\n",
      "num_trees: 12, depth: 4, features: 2\n",
      "num_trees: 12, depth: 4, features: 3\n",
      "num_trees: 12, depth: 4, features: 4\n",
      "num_trees: 12, depth: 4, features: 5\n",
      "num_trees: 12, depth: 4, features: 6\n",
      "num_trees: 12, depth: 5, features: 2\n",
      "num_trees: 12, depth: 5, features: 3\n",
      "num_trees: 12, depth: 5, features: 4\n",
      "num_trees: 12, depth: 5, features: 5\n",
      "num_trees: 12, depth: 5, features: 6\n",
      "num_trees: 12, depth: 6, features: 2\n",
      "num_trees: 12, depth: 6, features: 3\n",
      "num_trees: 12, depth: 6, features: 4\n",
      "num_trees: 12, depth: 6, features: 5\n",
      "num_trees: 12, depth: 6, features: 6\n",
      "num_trees: 12, depth: 7, features: 2\n",
      "num_trees: 12, depth: 7, features: 3\n",
      "num_trees: 12, depth: 7, features: 4\n",
      "num_trees: 12, depth: 7, features: 5\n",
      "num_trees: 12, depth: 7, features: 6\n",
      "num_trees: 12, depth: 8, features: 2\n",
      "num_trees: 12, depth: 8, features: 3\n",
      "num_trees: 12, depth: 8, features: 4\n",
      "num_trees: 12, depth: 8, features: 5\n",
      "num_trees: 12, depth: 8, features: 6\n",
      "num_trees: 12, depth: 9, features: 2\n",
      "num_trees: 12, depth: 9, features: 3\n",
      "num_trees: 12, depth: 9, features: 4\n",
      "num_trees: 12, depth: 9, features: 5\n",
      "num_trees: 12, depth: 9, features: 6\n",
      "num_trees: 12, depth: 10, features: 2\n",
      "num_trees: 12, depth: 10, features: 3\n",
      "num_trees: 12, depth: 10, features: 4\n",
      "num_trees: 12, depth: 10, features: 5\n",
      "num_trees: 12, depth: 10, features: 6\n",
      "num_trees: 13, depth: 3, features: 2\n",
      "num_trees: 13, depth: 3, features: 3\n",
      "num_trees: 13, depth: 3, features: 4\n",
      "num_trees: 13, depth: 3, features: 5\n",
      "num_trees: 13, depth: 3, features: 6\n",
      "num_trees: 13, depth: 4, features: 2\n",
      "num_trees: 13, depth: 4, features: 3\n",
      "num_trees: 13, depth: 4, features: 4\n",
      "num_trees: 13, depth: 4, features: 5\n",
      "num_trees: 13, depth: 4, features: 6\n",
      "num_trees: 13, depth: 5, features: 2\n",
      "num_trees: 13, depth: 5, features: 3\n",
      "num_trees: 13, depth: 5, features: 4\n",
      "num_trees: 13, depth: 5, features: 5\n",
      "num_trees: 13, depth: 5, features: 6\n",
      "num_trees: 13, depth: 6, features: 2\n",
      "num_trees: 13, depth: 6, features: 3\n",
      "num_trees: 13, depth: 6, features: 4\n",
      "num_trees: 13, depth: 6, features: 5\n",
      "num_trees: 13, depth: 6, features: 6\n",
      "num_trees: 13, depth: 7, features: 2\n",
      "num_trees: 13, depth: 7, features: 3\n",
      "num_trees: 13, depth: 7, features: 4\n",
      "num_trees: 13, depth: 7, features: 5\n",
      "num_trees: 13, depth: 7, features: 6\n",
      "num_trees: 13, depth: 8, features: 2\n",
      "num_trees: 13, depth: 8, features: 3\n",
      "num_trees: 13, depth: 8, features: 4\n",
      "num_trees: 13, depth: 8, features: 5\n",
      "num_trees: 13, depth: 8, features: 6\n",
      "num_trees: 13, depth: 9, features: 2\n",
      "num_trees: 13, depth: 9, features: 3\n",
      "num_trees: 13, depth: 9, features: 4\n",
      "num_trees: 13, depth: 9, features: 5\n",
      "num_trees: 13, depth: 9, features: 6\n",
      "num_trees: 13, depth: 10, features: 2\n",
      "num_trees: 13, depth: 10, features: 3\n",
      "num_trees: 13, depth: 10, features: 4\n",
      "num_trees: 13, depth: 10, features: 5\n",
      "num_trees: 13, depth: 10, features: 6\n",
      "num_trees: 14, depth: 3, features: 2\n",
      "num_trees: 14, depth: 3, features: 3\n",
      "num_trees: 14, depth: 3, features: 4\n",
      "num_trees: 14, depth: 3, features: 5\n",
      "num_trees: 14, depth: 3, features: 6\n",
      "num_trees: 14, depth: 4, features: 2\n",
      "num_trees: 14, depth: 4, features: 3\n",
      "num_trees: 14, depth: 4, features: 4\n",
      "num_trees: 14, depth: 4, features: 5\n",
      "num_trees: 14, depth: 4, features: 6\n",
      "num_trees: 14, depth: 5, features: 2\n",
      "num_trees: 14, depth: 5, features: 3\n",
      "num_trees: 14, depth: 5, features: 4\n",
      "num_trees: 14, depth: 5, features: 5\n",
      "num_trees: 14, depth: 5, features: 6\n",
      "num_trees: 14, depth: 6, features: 2\n",
      "num_trees: 14, depth: 6, features: 3\n",
      "num_trees: 14, depth: 6, features: 4\n",
      "num_trees: 14, depth: 6, features: 5\n",
      "num_trees: 14, depth: 6, features: 6\n",
      "num_trees: 14, depth: 7, features: 2\n",
      "num_trees: 14, depth: 7, features: 3\n",
      "num_trees: 14, depth: 7, features: 4\n",
      "num_trees: 14, depth: 7, features: 5\n",
      "num_trees: 14, depth: 7, features: 6\n",
      "num_trees: 14, depth: 8, features: 2\n",
      "num_trees: 14, depth: 8, features: 3\n",
      "num_trees: 14, depth: 8, features: 4\n",
      "num_trees: 14, depth: 8, features: 5\n",
      "num_trees: 14, depth: 8, features: 6\n",
      "num_trees: 14, depth: 9, features: 2\n",
      "num_trees: 14, depth: 9, features: 3\n",
      "num_trees: 14, depth: 9, features: 4\n",
      "num_trees: 14, depth: 9, features: 5\n",
      "num_trees: 14, depth: 9, features: 6\n",
      "num_trees: 14, depth: 10, features: 2\n",
      "num_trees: 14, depth: 10, features: 3\n",
      "num_trees: 14, depth: 10, features: 4\n",
      "num_trees: 14, depth: 10, features: 5\n",
      "num_trees: 14, depth: 10, features: 6\n",
      "num_trees: 15, depth: 3, features: 2\n",
      "num_trees: 15, depth: 3, features: 3\n",
      "num_trees: 15, depth: 3, features: 4\n",
      "num_trees: 15, depth: 3, features: 5\n",
      "num_trees: 15, depth: 3, features: 6\n",
      "num_trees: 15, depth: 4, features: 2\n",
      "num_trees: 15, depth: 4, features: 3\n",
      "num_trees: 15, depth: 4, features: 4\n",
      "num_trees: 15, depth: 4, features: 5\n",
      "num_trees: 15, depth: 4, features: 6\n",
      "num_trees: 15, depth: 5, features: 2\n",
      "num_trees: 15, depth: 5, features: 3\n",
      "num_trees: 15, depth: 5, features: 4\n",
      "num_trees: 15, depth: 5, features: 5\n",
      "num_trees: 15, depth: 5, features: 6\n",
      "num_trees: 15, depth: 6, features: 2\n",
      "num_trees: 15, depth: 6, features: 3\n",
      "num_trees: 15, depth: 6, features: 4\n",
      "num_trees: 15, depth: 6, features: 5\n",
      "num_trees: 15, depth: 6, features: 6\n",
      "num_trees: 15, depth: 7, features: 2\n",
      "num_trees: 15, depth: 7, features: 3\n",
      "num_trees: 15, depth: 7, features: 4\n",
      "num_trees: 15, depth: 7, features: 5\n",
      "num_trees: 15, depth: 7, features: 6\n",
      "num_trees: 15, depth: 8, features: 2\n",
      "num_trees: 15, depth: 8, features: 3\n",
      "num_trees: 15, depth: 8, features: 4\n",
      "num_trees: 15, depth: 8, features: 5\n",
      "num_trees: 15, depth: 8, features: 6\n",
      "num_trees: 15, depth: 9, features: 2\n",
      "num_trees: 15, depth: 9, features: 3\n",
      "num_trees: 15, depth: 9, features: 4\n",
      "num_trees: 15, depth: 9, features: 5\n",
      "num_trees: 15, depth: 9, features: 6\n",
      "num_trees: 15, depth: 10, features: 2\n",
      "num_trees: 15, depth: 10, features: 3\n",
      "num_trees: 15, depth: 10, features: 4\n",
      "num_trees: 15, depth: 10, features: 5\n",
      "num_trees: 15, depth: 10, features: 6\n",
      "max_accuracy:  0.70625\n",
      "num_trees: 14, depth: 3, features: 2\n"
     ]
    }
   ],
   "source": [
    "# train hyperparamters of random forest\n",
    "trees = list(range(5, 16))\n",
    "depths = list(range(3, 11))\n",
    "features = list(range(2, 7))\n",
    "(opt_num_trees, opt_depth, opt_num_features), grid = rf_tune_hyperparameters(trees, depths, features)"
   ]
  },
  {
   "cell_type": "code",
   "execution_count": 64,
   "metadata": {},
   "outputs": [],
   "source": [
    "def rf_model(X, y, X_test, y_test, opt_num_trees, opt_depth, opt_num_features):\n",
    "    \n",
    "    print(\"generating forest\")\n",
    "    forest = random_forest(opt_num_trees, opt_depth, opt_num_features, X, y)\n",
    "\n",
    "    y_pred_test = np.array([rf_predict(forest, x) for x in X_test])\n",
    "\n",
    "    confusion_matrix_test = rf_confusion_matrix(y_pred_test, y_test)\n",
    "    \n",
    "    X_train = X[:, :-1]\n",
    "    y_pred_train = np.array([rf_predict(forest, x) for x in X_train])\n",
    "    \n",
    "    confusion_matrix_train = rf_confusion_matrix(y_pred_train, y)\n",
    "    \n",
    "    plt.figure()\n",
    "    plt.title(\"Confusion matrix for training dataset\")\n",
    "    sn.heatmap(confusion_matrix_train, annot=True)\n",
    "    \n",
    "    plt.figure()\n",
    "    plt.title(\"Confusion matrix for test dataset\")\n",
    "    sn.heatmap(confusion_matrix_test, annot=True)\n",
    "    \n",
    "    return confusion_matrix_test, confusion_matrix_train"
   ]
  },
  {
   "cell_type": "code",
   "execution_count": 321,
   "metadata": {
    "scrolled": true
   },
   "outputs": [
    {
     "name": "stdout",
     "output_type": "stream",
     "text": [
      "generating forest\n"
     ]
    },
    {
     "data": {
      "image/png": "[encoded data removed]",
      "text/plain": [
       "<Figure size 432x288 with 2 Axes>"
      ]
     },
     "metadata": {},
     "output_type": "display_data"
    },
    {
     "data": {
      "image/png": "[encoded data removed]",
      "text/plain": [
       "<Figure size 432x288 with 2 Axes>"
      ]
     },
     "metadata": {},
     "output_type": "display_data"
    }
   ],
   "source": [
    "cm_test, cm_train = rf_model(classification_train_X, classification_train_y, classification_test_X, classification_test_y, opt_num_trees, opt_depth, opt_num_features )"
   ]
  },
  {
   "cell_type": "code",
   "execution_count": 78,
   "metadata": {},
   "outputs": [],
   "source": [
    "# calculates f1 score of the class\n",
    "def calc_f1(precision, recall):\n",
    "    if recall == 0 or precision == 0:\n",
    "        return 0\n",
    "    return 2 * precision * recall / (precision + recall)\n",
    "# generate metrics for our model given confusion matrix\n",
    "def rf_score(confusion_matrix):\n",
    "    \n",
    "    unstacked_mat = confusion_matrix.unstack().reorder_levels(('Actual', 'Predicted'))\n",
    "    #taking 0 to be TP, 1 to be TN\n",
    "    TP = unstacked_mat.loc[0, 0]\n",
    "    TN = unstacked_mat.loc[1, 1]\n",
    "    FP = unstacked_mat.loc[0, 1]\n",
    "    FN = unstacked_mat.loc[1, 0]\n",
    "    \n",
    "    results = {}\n",
    "    # calculate the precision , recall and f1 score for both classes, 0 and 1\n",
    "    results[\"precision_0\"] = TP / (TP + FN)\n",
    "    results[\"recall_0\"] = TP / (TP + FP)\n",
    "    results[\"f1_0\"] = calc_f1(results[\"precision_0\"], results[\"recall_0\"])\n",
    "    results[\"precision_1\"] = TN / (TN + FP)\n",
    "    results[\"recall_1\"] = TN / (TN + FN)\n",
    "    results[\"f1_1\"] = calc_f1(results[\"precision_1\"], results[\"recall_1\"])\n",
    "\n",
    "    # calculate the macro average \n",
    "    results[\"macro_avg_f1\"] = (results[\"f1_0\"] + results[\"f1_1\"]) / 2\n",
    "    results[\"macro_avg_precision\"] = (results[\"precision_0\"] + results[\"precision_1\"]) / 2\n",
    "    results[\"macro_avg_recall\"] = (results[\"recall_0\"] + results[\"recall_1\"]) / 2\n",
    "    results[\"accuracy\"] = (TP + TN) / (TP + TN + FP + FN)\n",
    "    \n",
    "    return results"
   ]
  },
  {
   "cell_type": "code",
   "execution_count": 322,
   "metadata": {},
   "outputs": [
    {
     "name": "stdout",
     "output_type": "stream",
     "text": [
      "Performance metrics for train dataset\n",
      "precision_0 : 0.9469026548672567\n",
      "recall_0 : 0.45147679324894513\n",
      "f1_0 : 0.6114285714285714\n",
      "precision_1 : 0.8107714701601164\n",
      "recall_1 : 0.9893428063943162\n",
      "f1_1 : 0.8912\n",
      "macro_avg_f1 : 0.7513142857142857\n",
      "macro_avg_precision : 0.8788370625136865\n",
      "macro_avg_recall : 0.7204097998216307\n",
      "accuracy : 0.83\n",
      "**************************\n",
      "Performance metrics for test dataset\n",
      "precision_0 : 0.25\n",
      "recall_0 : 0.047619047619047616\n",
      "f1_0 : 0.08\n",
      "precision_1 : 0.6808510638297872\n",
      "recall_1 : 0.9343065693430657\n",
      "f1_1 : 0.7876923076923078\n",
      "macro_avg_f1 : 0.4338461538461539\n",
      "macro_avg_precision : 0.4654255319148936\n",
      "macro_avg_recall : 0.49096280848105667\n",
      "accuracy : 0.655\n"
     ]
    },
    {
     "data": {
      "text/plain": [
       "[None, None, None, None, None, None, None, None, None, None]"
      ]
     },
     "execution_count": 322,
     "metadata": {},
     "output_type": "execute_result"
    }
   ],
   "source": [
    "test_metric = rf_score(cm_test)\n",
    "train_metric = rf_score(cm_train)\n",
    "print(\"Performance metrics for train dataset\")\n",
    "[print(f\"{key} : {value}\") for key, value in train_metric.items()]\n",
    "print(\"**************************\")\n",
    "print(\"Performance metrics for test dataset\")\n",
    "[print(f\"{key} : {value}\") for key, value in test_metric.items()]\n"
   ]
  },
  {
   "cell_type": "code",
   "execution_count": 323,
   "metadata": {},
   "outputs": [
    {
     "name": "stdout",
     "output_type": "stream",
     "text": [
      "Number of occurences of each class in the training dataset\n",
      "Class 1.0: 563 values\n",
      "Class 0.0: 237 values\n"
     ]
    },
    {
     "data": {
      "text/plain": [
       "[None, None]"
      ]
     },
     "execution_count": 323,
     "metadata": {},
     "output_type": "execute_result"
    }
   ],
   "source": [
    "training_set_values = Counter(classification_train_y)\n",
    "print(\"Number of occurences of each class in the training dataset\")\n",
    "[print(f\"Class {i}: {value} values\") for i, value in training_set_values.items()]"
   ]
  },
  {
   "cell_type": "markdown",
   "metadata": {},
   "source": [
    "#### 2.2.2\n",
    "The accuracy of our model for our training data is 83%, which is much higher than that for our test dataset, which is 65.5%. \n",
    "<br>\n",
    "Upon inspecting the values in our training dataset, we observe that there are more than double  the number of samples from class 1 (563) than there are class 0 (237). This implies that our dataset is lopsided and hence accuracy is not an accurate representation of the performance of our model since the performance of the class with a higher number of samples will skew the accuracy value. Hence, we look at other metrics, such as precision, recall and f1. These metrics are defined for each class. \n",
    "<br>\n",
    "\n",
    "For Class 1, the summary table of the metrics for both the test and train dataset are as given:\n",
    "<br>\n",
    "\n",
    "Class 1 | Train dataset | Test Dataset\n",
    ":--- | :---: | :---:|\n",
    "**precision** | 0.81 | 0.68\n",
    "**recall** | 0.98 | 0.93\n",
    "**f1** | 0.89 | 0.79\n",
    "\n",
    "<br>\n",
    "\n",
    "The model has a high recall value for both test and train datasets. This means that the model is able to correctly recognise data points that belong in class 1. However, the precision of the model for the test dataset is much lower than that of the train dataset, indicating that the model is not very good at differentiating between class 1 and 0, since the proportion of data points labeled as class 1 is indeed class 1 is low in the test set. This is most likely due to the fact that our data is lopsided and we have trained our model to have a bias towards class 1. During bootstrapping, there is a chance that B would contain entirely of data points with labels of 1s, thus affecting the performance of our model. In hindsight, when choosing B samples to construct the random forest, we could restrict our model to choose an equal amount of data points belonging to both classes, thus giving undersampling the majority class to allow our model to perform better. Since the f1 score considers both precision and recall, it is a more accurate metric than accuracy to represent the performance of our model.\n",
    "<br>\n",
    "<br>\n",
    "\n",
    "For Class 0, the summary table of the metrics for both the test and train dataset are as given:\n",
    "\n",
    "Class 0 | Train dataset | Test Dataset\n",
    ":--- | :---: | :---:|\n",
    "**precision** | 0.94 | 0.25\n",
    "**recall** | 0.45 | 0.04\n",
    "**f1** | 0.61 | 0.08\n",
    "\n",
    "<br>\n",
    "Th model has a low recall value in both train and test datasets, indicating that class 0 is not correctly recognised by our model. In fact, in the test dataset, the recall is close to zero, indicating that our model is not able to recognise data points belonging to class 0 when given unseen data points.  The precision for our training dataset is very high, at 0.94, which indicates that an example labeled as zero is indeed zero. However, this value falls to 0.25 in the test dataset. This is because our model falsely identifies a few data points (9) as 1, and due to the small amount of zeros (3) being correctly classified, the precision is adversely affected. \n",
    "\n",
    "<br>\n",
    "<br>\n",
    "\n",
    "The macro averaged metrics of both our training and test datasets are as follows:\n",
    "<br>\n",
    "\n",
    "Macro Averaged Metrics | Train dataset | Test Dataset\n",
    ":--- | :---: | :---:|\n",
    "**precision** | 0.75 | 0.43\n",
    "**recall** | 0.88 | 0.47\n",
    "**f1** | 0.72 | 0.49\n",
    "\n",
    "<br>\n",
    "The macro averaged statistics takes an average of precision, recall and f1 of both classes. \n",
    "Overall, our model performs relatively well on the training dataset, with a f1 score of 0.72. This is to be expected since our model is fitteed to the training dataset. However, due to the model's inability to recognise and classify data points belonging to class 0, our model has a rather mediocre f1 score on the test dataset. \n"
   ]
  },
  {
   "cell_type": "markdown",
   "metadata": {},
   "source": [
    "### Task 2.3 SVM"
   ]
  },
  {
   "cell_type": "markdown",
   "metadata": {},
   "source": [
    "#### (i) Linear SVM\n",
    "\n",
    "The cost function, hinge loss for Linear SVM is defined as:\n",
    "$$\n",
    "\\mathcal L (\\boldsymbol w) = \\frac{1}{2} \\| \\boldsymbol w \\|^2 + \\frac{\\lambda}{n} \\sum_{i=1}^n \\max \\bigg( 0, 1-y_i (\\boldsymbol w \\cdot x_i + b) \\bigg) \\, \n",
    "$$\n",
    "\n",
    "where $\\boldsymbol w$ is the vector of weights, $\\lambda$ the regularisation parameter, and $b$ the intercept which is included in our `X` as an additional column of $1$'s.\n",
    "To implement a hard margin SVM, we want a very large $\\lambda$ so that the loss function heavily penalises data points that are on the wrong side of the hyper plane. This allows us to implement a hard margin SVM that tolerates no mistakes."
   ]
  },
  {
   "cell_type": "code",
   "execution_count": 70,
   "metadata": {},
   "outputs": [],
   "source": [
    "# add extra column of 1s to both train and test dataset!!! to cater to b\n",
    "def compute_cost(W, X, y, reg_param=1e100):\n",
    "    n = X.shape[0]\n",
    "    \n",
    "    distances = 1 - y * (np.dot(X, W))\n",
    "    distances[distances < 0] = 0\n",
    "    hinge_loss = reg_param * (np.sum(distances) / n)\n",
    "    \n",
    "    cost = 1/2 * np.dot(W, W) + hinge_loss\n",
    "    return cost\n",
    "    "
   ]
  },
  {
   "cell_type": "markdown",
   "metadata": {},
   "source": [
    "To perform gradient descent to optimise the weights vector, we need to calculate the gradient of the loss function with respect to the weight vector. The formula is:\n",
    "\n",
    "$$\n",
    "\\frac{\\partial \\mathcal L}{\\partial \\boldsymbol w} = \n",
    "\\frac{1}{N} \\sum_{i=1}^{n}\n",
    "\\left\\{\\begin{array}{ll}\n",
    "\\boldsymbol{w} & \\text { if } \\max \\left(0,1-y_{i} *\\left(\\boldsymbol{w} \\cdot x_{i}\\right)\\right)=0 \\\\\n",
    "\\boldsymbol{w}-\\lambda y_{i} x_{i} & \\text { otherwise }\n",
    "\\end{array}\\right.\n",
    "$$"
   ]
  },
  {
   "cell_type": "code",
   "execution_count": 71,
   "metadata": {},
   "outputs": [],
   "source": [
    "def compute_cost_gradient(W, X_batch, y_batch, reg_param=1e100):\n",
    "    # convert singular data points into a list\n",
    "    if type(y_batch) == np.float64:\n",
    "        y_batch = np.asarray([y_batch])\n",
    "        X_batch = np.asarray([X_batch])\n",
    "    \n",
    "    distance = 1 - (y_batch * np.dot(X_batch, W))\n",
    "    dw = np.zeros(W.shape[0])\n",
    "    \n",
    "    for i, d in enumerate(distance):\n",
    "        if max(0, d) == 0:\n",
    "            di = W\n",
    "        else:\n",
    "            di = W - (reg_param * y_batch[i]* X_batch[i])\n",
    "        dw += di\n",
    "    \n",
    "    #compute average\n",
    "    dw = dw / len(y_batch)\n",
    "    return dw"
   ]
  },
  {
   "cell_type": "markdown",
   "metadata": {},
   "source": [
    "We add an extra column to both train_X and test_X datasets, as well as the weight vector so that the parameter b will be optimised when optimising the weight vector. We perform gradient descent to optimise the weights, with equation:\n",
    "$$\n",
    "\\boldsymbol w = \\boldsymbol w - \\alpha \\frac{\\partial \\mathcal L}{\\partial \\boldsymbol w}\n",
    "$$\n",
    "where $\\frac{\\partial \\mathcal L}{\\partial \\boldsymbol w}$ is the gradient of the hinge loss as we have computed."
   ]
  },
  {
   "cell_type": "code",
   "execution_count": 72,
   "metadata": {},
   "outputs": [],
   "source": [
    "def sgd(X, y_train, max_epochs=2000, stop_criterion=0.01, learning_rate=1e-5, reg_param=1e100, print_outcome=False):\n",
    "    \n",
    "    #add extra column to X\n",
    "    X = np.hstack((X, np.ones((X.shape[0], 1))))\n",
    "    \n",
    "    # change labels from 0 to -1\n",
    "    y = np.array(y_train)\n",
    "    y[y == 0] = -1\n",
    "    #initialise zero weights\n",
    "    weights = np.random.rand(X.shape[1]) * 10\n",
    "    nth = 0\n",
    "    prev_cost = np.inf\n",
    "    \n",
    "    #perform single value stochastic gradient descent\n",
    "    for epoch in range(max_epochs):\n",
    "        #shuffle to prevent repeating update cycles\n",
    "        np.random.shuffle([X, y])\n",
    "        \n",
    "        for ind, x in enumerate(X):\n",
    "            ascent = compute_cost_gradient(weights, x, y[ind], reg_param)\n",
    "            weights = weights - (learning_rate * ascent)\n",
    "                                 \n",
    "        #convergence check on 2^n ith iteration\n",
    "        if epoch == 2 ** nth or epoch == (max_epochs - 1):\n",
    "            cost = compute_cost(weights, X, y, reg_param)\n",
    "            if print_outcome:\n",
    "                print(\"ascent: \", ascent)\n",
    "                print(\"Current epoch is: {}, Cost is: {}\".format(epoch, cost))\n",
    "            if abs(prev_cost - cost) < stop_criterion * prev_cost:\n",
    "                return weights\n",
    "            prev_cost = cost\n",
    "            nth += 1\n",
    "    return weights"
   ]
  },
  {
   "cell_type": "code",
   "execution_count": 73,
   "metadata": {},
   "outputs": [],
   "source": [
    "W = sgd(classification_train_X, classification_train_y, max_epochs=2000, stop_criterion=0.001, learning_rate=1e-3, reg_param=1e100,print_outcome=False)"
   ]
  },
  {
   "cell_type": "code",
   "execution_count": 74,
   "metadata": {},
   "outputs": [
    {
     "data": {
      "text/plain": [
       "array([-6.80111508e+97, -4.16182645e+96,  6.70469630e+96,  1.79322009e+97,\n",
       "        3.13880965e+97, -1.36515054e+97,  1.10865353e+97, -2.23396587e+97,\n",
       "        5.04989568e+97,  2.56909206e+97,  4.77607399e+96,  4.63752371e+97])"
      ]
     },
     "execution_count": 74,
     "metadata": {},
     "output_type": "execute_result"
    }
   ],
   "source": [
    "W"
   ]
  },
  {
   "cell_type": "code",
   "execution_count": 75,
   "metadata": {},
   "outputs": [],
   "source": [
    "def svm_f1_score(y_pred, y_actual, macro=False):\n",
    "    confusion_matrix = np.zeros(4).reshape((2, 2))\n",
    "    for i in range(len(y_pred)):\n",
    "        pred = y_pred[i]\n",
    "        actual = y_actual[i]\n",
    "        if pred == -1 and actual == -1:\n",
    "            # TP\n",
    "            confusion_matrix[0, 0] += 1\n",
    "        elif pred == 1 and actual == -1:\n",
    "            # FN\n",
    "            confusion_matrix[0, 1] += 1\n",
    "        elif pred == -1 and actual == 1:\n",
    "            # FP\n",
    "            confusion_matrix[1, 0] += 1\n",
    "        else:\n",
    "            # TN\n",
    "            confusion_matrix[1, 1] += 1\n",
    "    \n",
    "    TP = confusion_matrix[0, 0]\n",
    "    TN = confusion_matrix[1, 1]\n",
    "    FP = confusion_matrix[1, 0]\n",
    "    FN = confusion_matrix[0, 1]\n",
    "    \n",
    "    precision_0 = TP / (TP + FN)\n",
    "    recall_0 = 0\n",
    "    if (TP + FP) != 0:\n",
    "        recall_0 = TP / (TP + FP)\n",
    "    f1_0 = calc_f1(precision_0, recall_0)\n",
    "    specificity_0 = TN / (TN + FP)\n",
    "    \n",
    "    precision_1 = TN / (TN + FP)\n",
    "    recall_1 = 0\n",
    "    if (TN + FN) != 0: \n",
    "        recall_1 = TN / (TN + FN)\n",
    "    specificity_1 = TP / (TP + FN)\n",
    "    f1_1 = calc_f1(precision_1, recall_1)\n",
    "    \n",
    "    macro_avg_f1 = (f1_0 + f1_1) / 2\n",
    "    macro_avg_precision = (precision_0 + precision_1) / 2\n",
    "    macro_avg_recall = (recall_0 + recall_1) / 2\n",
    "    accuracy = (TP + TN) / (TP + TN + FP + FN)\n",
    "    macro_specificity = (specificity_1 + specificity_0) / 2\n",
    "    \n",
    "    if macro:\n",
    "        return macro_avg_f1, macro_avg_precision, macro_avg_recall, accuracy, macro_specificity\n",
    "    return f1_1, precision_1, recall_1, accuracy, specificity_1"
   ]
  },
  {
   "cell_type": "code",
   "execution_count": 76,
   "metadata": {},
   "outputs": [],
   "source": [
    "def score(W, X, y, title, plot_matrix=False, macro=False):\n",
    "    y_preds = np.array([])\n",
    "    # change the labels from 0 t0 -1\n",
    "    y[y == 0] = -1\n",
    "    X = np.hstack((X, np.ones((X.shape[0], 1))))\n",
    "    for i in range(X.shape[0]):\n",
    "        y_pred = np.sign(np.dot(X[i], W))\n",
    "        y_preds = np.append(y_preds, y_pred)\n",
    "    \n",
    "    confusion_matrix = rf_confusion_matrix(y_preds, y)\n",
    "    if plot_matrix:\n",
    "        plt.figure()\n",
    "        plt.title(title)\n",
    "        sn.heatmap(confusion_matrix, annot=True)\n",
    "    f1_score, precision, recall, accuracy, _ = svm_f1_score(y_preds, y, macro)\n",
    "    \n",
    "    metrics = {\"f1_score\": f1_score, \"precision\": precision, \"recall\": recall, \"accuracy\":accuracy}\n",
    "    return metrics"
   ]
  },
  {
   "cell_type": "code",
   "execution_count": 80,
   "metadata": {},
   "outputs": [
    {
     "name": "stdout",
     "output_type": "stream",
     "text": [
      "Performance metrics for train dataset\n",
      "f1_score : 0.6280867699921664\n",
      "precision : 0.6314949299638015\n",
      "recall : 0.625728228389621\n",
      "accuracy : 0.6825\n",
      "**************************\n",
      "Performance metrics for test dataset\n",
      "f1_score : 0.6067036482639195\n",
      "precision : 0.605433901054339\n",
      "recall : 0.6083333333333334\n",
      "accuracy : 0.665\n"
     ]
    },
    {
     "data": {
      "text/plain": [
       "[None, None, None, None]"
      ]
     },
     "execution_count": 80,
     "metadata": {},
     "output_type": "execute_result"
    },
    {
     "data": {
      "image/png": "[encoded data removed]",
      "text/plain": [
       "<Figure size 432x288 with 2 Axes>"
      ]
     },
     "metadata": {},
     "output_type": "display_data"
    },
    {
     "data": {
      "image/png": "[encoded data removed]",
      "text/plain": [
       "<Figure size 432x288 with 2 Axes>"
      ]
     },
     "metadata": {},
     "output_type": "display_data"
    }
   ],
   "source": [
    "metrics_train = score(W, classification_train_X, classification_train_y, plot_matrix=True, title=\"Metrics on Train set\", macro=True)\n",
    "metrics_test = score(W, classification_test_X, classification_test_y, title=\"Metrics on test set\", plot_matrix=True, macro=True)\n",
    "print(\"Performance metrics for train dataset\")\n",
    "[print(f\"{key} : {value}\") for key, value in metrics_train.items()]\n",
    "print(\"**************************\")\n",
    "print(\"Performance metrics for test dataset\")\n",
    "[print(f\"{key} : {value}\") for key, value in metrics_test.items()]"
   ]
  },
  {
   "cell_type": "markdown",
   "metadata": {},
   "source": [
    "#### (ii) Kernel SVM\n",
    "\n",
    "The cost function, hinge loss for Linear SVM is defined as:\n",
    "$$\n",
    "\\mathcal L (\\boldsymbol w) = \\frac{1}{2} k(w, w) + \\frac{\\lambda}{n} \\sum_{i=1}^n \\max \\bigg( 0, 1-y_i (k(\\boldsymbol w, x_i)) \\bigg) \\, \n",
    "$$\n",
    "where k is the kerrnel function.\n",
    "\n",
    "In this case, we us the RBF kernel, given by the equation:\n",
    "$$\n",
    "k(x_i, x_j) = e ^ {- \\frac{\\|{x_i - x_j}\\|^2}{2 \\sigma^2}}\n",
    "$$\n"
   ]
  },
  {
   "cell_type": "code",
   "execution_count": 363,
   "metadata": {},
   "outputs": [],
   "source": [
    "def euclidean_dist(m, n):\n",
    "    return np.sqrt(np.sum(np.square(m - n)))\n",
    "\n",
    "def gaussian(w, X, sigma):\n",
    "    euclidean_distance = euclidean_dist(X, w)\n",
    "    exponent = - euclidean_distance / 2 * sigma ** 2\n",
    "    return np.exp(exponent)"
   ]
  },
  {
   "cell_type": "code",
   "execution_count": 364,
   "metadata": {},
   "outputs": [],
   "source": [
    "# we compute the hinge loss for the rbf svm by replacing the dot products in linear svm with the kernel function\n",
    "def compute_cost_rbf(W, X, y, reg_param=1e100, sigma=0.01):\n",
    "    n = X.shape[0]\n",
    "    \n",
    "    distances = 1 - y * (gaussian(W, X, sigma))\n",
    "    distances[distances < 0] = 0\n",
    "    hinge_loss = reg_param * np.sum(distances) / n\n",
    "    \n",
    "    cost = 1/2 * gaussian(W, W, sigma) + hinge_loss\n",
    "    return cost"
   ]
  },
  {
   "cell_type": "markdown",
   "metadata": {},
   "source": [
    "To perform gradient descent to optimise the weights vector, we need to calculate the gradient of the loss function with respect to the weight vector. The formula is:\n",
    "\n",
    "$$\n",
    "\\frac{\\partial \\mathcal L}{\\partial \\boldsymbol w} = \n",
    "\\frac{1}{N} \\sum_{i=1}^{n}\n",
    "\\left\\{\\begin{array}{ll}\n",
    "\\boldsymbol{w} & \\text { if } \\max \\left(0,1-y_{i} *\\left(k (\\boldsymbol{w},x_{i})\\right) + b\\right)=0 \\\\\n",
    "\\boldsymbol{w}-\\lambda y_{i} x_{i} & \\text { otherwise }\n",
    "\\end{array}\\right.\n",
    "$$"
   ]
  },
  {
   "cell_type": "code",
   "execution_count": 365,
   "metadata": {},
   "outputs": [],
   "source": [
    "def compute_cost_gradient_rbf(W, X_batch, y_batch, reg_param=1e100, sigma=0.01):\n",
    "    # convert singular data points into a list\n",
    "    if type(y_batch) == np.float64:\n",
    "        y_batch = np.asarray([y_batch])\n",
    "        X_batch = np.asarray([X_batch])\n",
    "    \n",
    "    distance = 1 - y_batch * (gaussian(W, X_batch, sigma))\n",
    "    dw = np.zeros(W.shape[0])\n",
    "    \n",
    "    for i, d in enumerate(distance):\n",
    "        if max(0, d) == 0:\n",
    "            di = W\n",
    "        else:\n",
    "            di = W - (reg_param * y_batch[i]* X_batch[i])\n",
    "        dw += di\n",
    "    \n",
    "    #compute average\n",
    "    dw = dw / len(y_batch)\n",
    "    \n",
    "    return dw\n"
   ]
  },
  {
   "cell_type": "code",
   "execution_count": 366,
   "metadata": {},
   "outputs": [],
   "source": [
    "def kernel_sgd(X, y, sigma, max_epochs=2000, stop_criterion=0.01, learning_rate=1e-5, reg_param=1e100, print_outcome=False):\n",
    "    \n",
    "    # add extra column of 1s to X to predict b\n",
    "    X = np.hstack((X, np.ones((X.shape[0], 1))))\n",
    "    \n",
    "    # change labels from 0 to -1\n",
    "    y = np.array(y)\n",
    "    y[y == 0] = -1\n",
    "    # initialise random weights\n",
    "    weights = np.random.rand(X.shape[1])\n",
    "    nth = 0\n",
    "    # initialise starting cost as infinity\n",
    "    prev_cost = np.inf\n",
    "\n",
    "    # stochastic gradient descent\n",
    "    for iteration in range(1, max_epochs):\n",
    "        # shuffle to prevent repeating update cycles\n",
    "        np.random.shuffle([X, y])\n",
    "        for ind, x in enumerate(X):\n",
    "            ascent = compute_cost_gradient_rbf(weights, x, y[ind], reg_param, sigma)\n",
    "            weights = weights - (learning_rate * ascent)\n",
    "\n",
    "        # convergence check on 2^n'th iteration\n",
    "        if iteration==2**nth or iteration==max_iterations-1:\n",
    "            # compute cost\n",
    "            cost = compute_cost_rbf(weights, X, y, sigma)\n",
    "            if print_outcome:\n",
    "                print(\"Iteration is: {}, Cost is: {}\".format(iteration, cost))\n",
    "            # stop criterion\n",
    "            if abs(prev_cost - cost) < stop_criterion * prev_cost:\n",
    "                return weights\n",
    "\n",
    "            prev_cost = cost\n",
    "            nth += 1\n",
    "\n",
    "    return weights"
   ]
  },
  {
   "cell_type": "code",
   "execution_count": 385,
   "metadata": {},
   "outputs": [],
   "source": [
    "def score_rbf(W, X, y, sigma, title=\"\", plot_matrix=False, macro=False,):\n",
    "    y_preds = np.array([])\n",
    "    # change the labels from 0 t0 -1\n",
    "    y[y == 0] = -1\n",
    "    \n",
    "    # extract b from weights to add separately to the prediction\n",
    "    b = W[-1]\n",
    "    W = W[:-1]\n",
    "    for i in range(X.shape[0]):\n",
    "        y_pred = np.sign(gaussian(W, X[i], sigma) + b)\n",
    "        y_preds = np.append(y_preds, y_pred)\n",
    "    \n",
    "    confusion_matrix = rf_confusion_matrix(y_preds, y)\n",
    "    if plot_matrix:\n",
    "        plt.figure()\n",
    "        plt.title(title)\n",
    "        sn.heatmap(confusion_matrix, annot=True)\n",
    "    f1_score, precision, recall, accuracy, TNR = svm_f1_score(y_preds, y, macro)\n",
    "    \n",
    "    return f1_score, precision, recall, accuracy, TNR"
   ]
  },
  {
   "cell_type": "code",
   "execution_count": 397,
   "metadata": {},
   "outputs": [],
   "source": [
    "def cross_validation_rbf(sigma):\n",
    "    num_of_folds = len(classification_folds)\n",
    "    \n",
    "    avg_f1_score = 0\n",
    "    \n",
    "    for i in range(num_of_folds):\n",
    "        train_X, train_y, test_X, test_y = generate_test_train_sets(classification_folds, i)\n",
    "        \n",
    "        # perform sgd with weights to get the best W\n",
    "        W = kernel_sgd(train_X, train_y,max_epochs=2000,stop_criterion=0.01, learning_rate=1e-3, reg_param=1e100, sigma=sigma, print_outcome=False)\n",
    "        \n",
    "        # calculate f1 score for data set\n",
    "        f1, _, _, _, _ = score_rbf(W, test_X, test_y, sigma, macro=True)\n",
    "        avg_f1_score += f1\n",
    "    \n",
    "    return avg_f1_score / num_of_folds\n",
    "\n",
    "def tune_rbf_hyperparameters():\n",
    "    sigmas = np.linspace(0.001, 0.1, 100)\n",
    "    grid = {}\n",
    "    \n",
    "\n",
    "    for i, sigma in enumerate(sigmas):\n",
    "        f1 = cross_validation_rbf(sigma)\n",
    "        grid[sigma] = f1\n",
    "    \n",
    "    \n",
    "    opt_sigma, max_f1 = grid_search(grid)\n",
    "    \n",
    "    print(\"opt_sigma\", opt_sigma)\n",
    "    print(\"max_f1: \", max_f1)\n",
    "    \n",
    "    return opt_sigma"
   ]
  },
  {
   "cell_type": "code",
   "execution_count": 398,
   "metadata": {},
   "outputs": [
    {
     "name": "stdout",
     "output_type": "stream",
     "text": [
      "opt_sigma 0.1\n",
      "max_f1:  0.41278348777722995\n"
     ]
    }
   ],
   "source": [
    "sigma = tune_rbf_hyperparameters()"
   ]
  },
  {
   "cell_type": "code",
   "execution_count": 413,
   "metadata": {},
   "outputs": [],
   "source": [
    "def rbf_train(X, y, sigma, macro=False):\n",
    "    W = kernel_sgd(X, y, sigma, max_epochs=2000, stop_criterion=0.001, learning_rate=1e-3, reg_param=1e100)\n",
    "    f1_train, precision_train, recall_train, accuracy_train, TNR = score_rbf(W, X, y, sigma, plot_matrix=True, title=\"Confusion Matrix for Train dataset\", macro=macro)\n",
    "    metrics = {\"f1_train\":f1_train, \"precision_train\":precision_train, \"accuracy_train\":accuracy_train, \"TNR\":TNR, \"recall_train\":recall_train}\n",
    "    return W, metrics\n",
    "    \n",
    "def rbf_predict(W,X_test, y_test, sigma, plot_matrix=False, macro=False):\n",
    "    f1, precision, recall, accuracy, TNR = score_rbf(W, X_test, y_test, sigma, plot_matrix=plot_matrix, title=\"Confusion Matrix for Test dataset\", macro=macro)\n",
    "    metrics = {\"f1\":f1, \"precision\":precision, \"accuracy\":accuracy, \"TNR\":TNR, \"recall\":recall}\n",
    "    return metrics"
   ]
  },
  {
   "cell_type": "code",
   "execution_count": 414,
   "metadata": {},
   "outputs": [
    {
     "data": {
      "image/png": "[encoded data removed]",
      "text/plain": [
       "<Figure size 432x288 with 2 Axes>"
      ]
     },
     "metadata": {},
     "output_type": "display_data"
    },
    {
     "data": {
      "image/png": "[encoded data removed]",
      "text/plain": [
       "<Figure size 432x288 with 2 Axes>"
      ]
     },
     "metadata": {},
     "output_type": "display_data"
    }
   ],
   "source": [
    "W, train_metrics = rbf_train(classification_train_X, classification_train_y, sigma, macro=True)\n",
    "test_metrics = rbf_predict(W, classification_test_X, classification_test_y, sigma, plot_matrix=True, macro=True)"
   ]
  },
  {
   "cell_type": "code",
   "execution_count": 415,
   "metadata": {},
   "outputs": [
    {
     "name": "stdout",
     "output_type": "stream",
     "text": [
      "Performance metrics for train dataset\n",
      "f1_train : 0.4130594277329421\n",
      "precision_train : 0.5\n",
      "accuracy_train : 0.70375\n",
      "TNR : 0.5\n",
      "recall_train : 0.351875\n",
      "**************************\n",
      "Performance metrics for test dataset\n",
      "f1 : 0.4065281899109792\n",
      "precision : 0.5\n",
      "accuracy : 0.685\n",
      "TNR : 0.5\n",
      "recall : 0.3425\n"
     ]
    },
    {
     "data": {
      "text/plain": [
       "[None, None, None, None, None]"
      ]
     },
     "execution_count": 415,
     "metadata": {},
     "output_type": "execute_result"
    }
   ],
   "source": [
    "print(\"Performance metrics for train dataset\")\n",
    "[print(f\"{key} : {value}\") for key, value in train_metrics.items()]\n",
    "print(\"**************************\")\n",
    "print(\"Performance metrics for test dataset\")\n",
    "[print(f\"{key} : {value}\") for key, value in test_metrics.items()]"
   ]
  },
  {
   "cell_type": "markdown",
   "metadata": {},
   "source": [
    "##### 2.3.1\n",
    "We take the macro averaged statistcs of the linear SVM and the optimal kernel SVM and compare them for both train and test datasets:\n",
    "\n",
    "For the training dataset:\n",
    "\n",
    "Performance Metrics | Linear SVM | Kernel SVM\n",
    ":--- | :---: | :---:|\n",
    "**precision** | 0.62 | 0.5\n",
    "**recall** | 0.62 |  0.35\n",
    "**f1** | 0.62 | 0.5\n",
    "\n",
    "<br>\n",
    "Overall, the kernel SVM performs much poorer than the linear SVM on the training set. \n",
    "The kernel SVM has a much lower precision than the linear SVM of 0.5. This might be due to the fact that the kernel SVM predicts all ones for the training data points. In fact, the kernel is unable to recognise both classes due to the low macro average recall score. \n",
    "\n",
    "<br>\n",
    "<br>\n",
    "\n",
    "For the test dataset:\n",
    "\n",
    "Performance Metrics | Linear SVM | Kernel SVM\n",
    ":--- | :---: | :---:|\n",
    "**precision** | 0.65 | 0.5\n",
    "**recall** | 0.66 | 0.34\n",
    "**f1** | 0.65 | 0.41\n",
    "\n",
    "<br>\n",
    "\n",
    "The kernel SVM also performs much poorer than the linear SVM on the test set.\n",
    "The same observations for the training set applies here as well.\n",
    "\n"
   ]
  },
  {
   "cell_type": "code",
   "execution_count": 416,
   "metadata": {},
   "outputs": [],
   "source": [
    "def plot_ROC_curve(W, X_test, y_test):\n",
    "    sigmas = np.linspace(0.001, 0.1, 100)\n",
    "    results = [rbf_predict(W, X_test, y_test, sigma, plot_matrix=False) for sigma in sigmas]\n",
    "    TPR_vals = [metrics[\"recall\"] for metrics in results]\n",
    "    TNR_vals = [metrics[\"TNR\"] for metrics in results]\n",
    "    FPR = [1 - TNR for TNR in TNR_vals]\n",
    "    \n",
    "    plt.figure()\n",
    "    plt.scatter(TPR_vals, TNR_vals)\n",
    "    plt.title(\"ROC Curve\")\n",
    "    plt.xlabel(\"FPR\")\n",
    "    plt.ylabel(\"TNR\")"
   ]
  },
  {
   "cell_type": "code",
   "execution_count": 417,
   "metadata": {},
   "outputs": [
    {
     "data": {
      "image/png": "[encoded data removed]",
      "text/plain": [
       "<Figure size 432x288 with 1 Axes>"
      ]
     },
     "metadata": {},
     "output_type": "display_data"
    }
   ],
   "source": [
    "plot_ROC_curve(W, classification_test_X, classification_test_y)"
   ]
  },
  {
   "cell_type": "markdown",
   "metadata": {},
   "source": [
    "#### 2.3.2\n",
    "\n",
    "The quality of the optimal kernel SVM is poor since all the models predict the same value of 1 regardless of the hyperparamter value. There is no ROC curve observed."
   ]
  }
 ],
 "metadata": {
  "kernelspec": {
   "display_name": "Python 3",
   "language": "python",
   "name": "python3"
  },
  "language_info": {
   "codemirror_mode": {
    "name": "ipython",
    "version": 3
   },
   "file_extension": ".py",
   "mimetype": "text/x-python",
   "name": "python",
   "nbconvert_exporter": "python",
   "pygments_lexer": "ipython3",
   "version": "3.8.5"
  }
 },
 "nbformat": 4,
 "nbformat_minor": 4
}
